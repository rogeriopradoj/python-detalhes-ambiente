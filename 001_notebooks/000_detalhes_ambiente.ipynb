{
 "cells": [
  {
   "cell_type": "markdown",
   "id": "fc9aed0d-2985-4fbf-8b5e-c0f6033a5054",
   "metadata": {},
   "source": [
    "# 000_detalhes_ambiente.ipynb"
   ]
  },
  {
   "cell_type": "markdown",
   "id": "c43976b3-820b-4fd8-9181-c719c3fb0d2c",
   "metadata": {},
   "source": [
    "<https://github.com/rogeriopradoj/python-detalhes-ambiente>\n",
    "\n",
    "Notebook que busca detalhar todos os detalhes do ambiente do seu ambiente python / anaconda / jupyter."
   ]
  },
  {
   "cell_type": "markdown",
   "id": "77189f2c-163f-4e06-9169-5567210784ab",
   "metadata": {
    "execution": {
     "iopub.execute_input": "2022-06-15T13:53:02.133633Z",
     "iopub.status.busy": "2022-06-15T13:53:02.133633Z",
     "iopub.status.idle": "2022-06-15T13:53:02.161628Z",
     "shell.execute_reply": "2022-06-15T13:53:02.158635Z",
     "shell.execute_reply.started": "2022-06-15T13:53:02.133633Z"
    }
   },
   "source": [
    "Baseado no script disponível <https://stackoverflow.com/a/10091465/1330750>."
   ]
  },
  {
   "cell_type": "markdown",
   "id": "26177763-642f-4be3-b129-d586f839320c",
   "metadata": {},
   "source": [
    "## 1. Carrega dependências do script"
   ]
  },
  {
   "cell_type": "code",
   "execution_count": 1,
   "id": "8c490695-6b44-48da-8a97-0a5af0e3cd09",
   "metadata": {
    "execution": {
     "iopub.execute_input": "2022-06-18T04:14:07.346109Z",
     "iopub.status.busy": "2022-06-18T04:14:07.345112Z",
     "iopub.status.idle": "2022-06-18T04:14:07.375059Z",
     "shell.execute_reply": "2022-06-18T04:14:07.372060Z",
     "shell.execute_reply.started": "2022-06-18T04:14:07.346109Z"
    },
    "tags": []
   },
   "outputs": [],
   "source": [
    "import os\n",
    "import platform\n",
    "\n",
    "import IPython"
   ]
  },
  {
   "cell_type": "markdown",
   "id": "81225177-1f63-4aa9-8492-0d56eb3e70a2",
   "metadata": {},
   "source": [
    "### 1.2. Define classe e métodos"
   ]
  },
  {
   "cell_type": "code",
   "execution_count": 2,
   "id": "de0416e4-fa83-46c1-a457-ca51cf6987a3",
   "metadata": {
    "execution": {
     "iopub.execute_input": "2022-06-18T04:14:07.382059Z",
     "iopub.status.busy": "2022-06-18T04:14:07.381060Z",
     "iopub.status.idle": "2022-06-18T04:14:07.939131Z",
     "shell.execute_reply": "2022-06-18T04:14:07.937131Z",
     "shell.execute_reply.started": "2022-06-18T04:14:07.382059Z"
    },
    "tags": []
   },
   "outputs": [],
   "source": [
    "class RogerioDetalhesAmbiente:\n",
    "    @staticmethod\n",
    "    def show_platform():\n",
    "        def linux_distribution():\n",
    "            try:\n",
    "                return platform.linux_distribution()\n",
    "            except:\n",
    "                return \"N/A\"\n",
    "        def dist():\n",
    "            try:\n",
    "                return platform.dist()\n",
    "            except:\n",
    "                return \"N/A\"\n",
    "\n",
    "        results = {}\n",
    "        method_output = []\n",
    "        commands = {\n",
    "            \"Python version\": os.sys.version.split(\"\\n\"),\n",
    "            \"dist\": str(dist()),\n",
    "            \"linux_distribution\": linux_distribution(),\n",
    "            \"system\": platform.system(),\n",
    "            \"machine\": platform.machine(),\n",
    "            \"platform\": platform.platform(),\n",
    "            \"uname\": platform.uname(),\n",
    "            \"version\": platform.version(),\n",
    "            \"mac_ver\": platform.mac_ver(),\n",
    "        }\n",
    "\n",
    "        for tool, tool_command in commands.items():\n",
    "            tool_result = tool_command\n",
    "            results[tool] = tool_result\n",
    "\n",
    "        for tool, tool_result in results.items():\n",
    "            method_output.append((tool, tool_result))\n",
    "\n",
    "        return method_output\n",
    "\n",
    "    @staticmethod\n",
    "    def show_versions():\n",
    "        results = {}\n",
    "        method_output = []\n",
    "        commands = {\n",
    "            \"python_sys_executable_version\": f\"{os.sys.executable} --version\",\n",
    "            \"pip_version\": f\"{os.sys.executable} -m pip --version\",\n",
    "            \"conda_version\": \"conda --version\",\n",
    "            \"mamba_version\": \"mamba --version\",\n",
    "            \"node_version\": \"node --version\",\n",
    "            \"npm_version\": \"npm --version\",\n",
    "            \"jlpm_version\": \"jlpm --version\",\n",
    "        }\n",
    "\n",
    "        for tool, tool_command in commands.items():\n",
    "            tool_result = !{tool_command}\n",
    "            if not RogerioDetalhesAmbiente.command_exists(tool_result):\n",
    "                tool_result = \"N/A\"\n",
    "            results[tool] = tool_result\n",
    "\n",
    "        for tool, tool_result in results.items():\n",
    "            method_output.append((tool, tool_result))\n",
    "\n",
    "        return method_output\n",
    "\n",
    "    @staticmethod\n",
    "    def show_anaconda_env_list():\n",
    "        method_output = !mamba env list\n",
    "\n",
    "        if ( RogerioDetalhesAmbiente.command_exists(method_output) ):\n",
    "            return method_output\n",
    "\n",
    "        method_output = !conda env list\n",
    "\n",
    "        if ( RogerioDetalhesAmbiente.command_exists(method_output) ):\n",
    "            return \"N/A\"\n",
    "\n",
    "        return method_output\n",
    "\n",
    "    @staticmethod\n",
    "    def show_anaconda_pkg_list():\n",
    "        method_output = !mamba list\n",
    "\n",
    "        if ( RogerioDetalhesAmbiente.command_exists(method_output) ):\n",
    "            return method_output\n",
    "\n",
    "        method_output = !conda list\n",
    "\n",
    "        if ( RogerioDetalhesAmbiente.command_exists(method_output) ):\n",
    "            return \"N/A\"\n",
    "\n",
    "        return method_output\n",
    "\n",
    "    @staticmethod\n",
    "    def show_pip_freeze():\n",
    "        method_output = !pip freeze\n",
    "\n",
    "        if not RogerioDetalhesAmbiente.command_exists(method_output):\n",
    "            return \"N/A\"\n",
    "\n",
    "        return method_output\n",
    "\n",
    "    @staticmethod\n",
    "    def show_jupyter_lab_ext_list():\n",
    "        method_output = !jupyter labextension list\n",
    "\n",
    "        if not RogerioDetalhesAmbiente.command_exists(method_output):\n",
    "            return \"N/A\"\n",
    "\n",
    "        return method_output\n",
    "\n",
    "    @staticmethod\n",
    "    def show_jupyter_server_ext_list():\n",
    "        method_output = !jupyter serverextension list\n",
    "\n",
    "        if not RogerioDetalhesAmbiente.command_exists(method_output):\n",
    "            return \"N/A\"\n",
    "\n",
    "        return method_output\n",
    "\n",
    "    @staticmethod\n",
    "    def show_current_directory_path():\n",
    "        return os.getcwd()\n",
    "\n",
    "    @staticmethod\n",
    "    def show_parent_directory_path():\n",
    "        return os.path.abspath(os.path.join(os.getcwd(), \"..\"))\n",
    "\n",
    "    @staticmethod\n",
    "    def show_anaconda_info():\n",
    "        method_output = !mamba info\n",
    "\n",
    "        if ( RogerioDetalhesAmbiente.command_exists(method_output) ):\n",
    "            return method_output\n",
    "\n",
    "        method_output = !conda info\n",
    "\n",
    "        if ( RogerioDetalhesAmbiente.command_exists(method_output) ):\n",
    "            return \"N/A\"\n",
    "\n",
    "        return method_output\n",
    "\n",
    "    @staticmethod\n",
    "    def show_anaconda_config_show():\n",
    "        method_output = !conda config --show\n",
    "\n",
    "        if not RogerioDetalhesAmbiente.command_exists(method_output):\n",
    "            return \"N/A\"\n",
    "\n",
    "        return method_output\n",
    "\n",
    "    def command_exists(cli_output: IPython.utils.text.SList):\n",
    "        return not ( cli_output.spstr.__contains__('reconhecido como um comando') )"
   ]
  },
  {
   "cell_type": "markdown",
   "id": "7eeb4894-82c9-4bfe-af1d-dd63ad6b0a21",
   "metadata": {},
   "source": [
    "## 2. Detalhamentos"
   ]
  },
  {
   "cell_type": "markdown",
   "id": "f886d3ea-ac26-4365-aff7-2cf15f308cff",
   "metadata": {},
   "source": [
    "### 2.1. Mostra detalhes gerais da plataforma"
   ]
  },
  {
   "cell_type": "code",
   "execution_count": 3,
   "id": "75f26b15-2fd6-49f9-a90e-e5f2eb7f81e0",
   "metadata": {
    "execution": {
     "iopub.execute_input": "2022-06-18T04:14:07.944127Z",
     "iopub.status.busy": "2022-06-18T04:14:07.943129Z",
     "iopub.status.idle": "2022-06-18T04:14:08.001128Z",
     "shell.execute_reply": "2022-06-18T04:14:08.000130Z",
     "shell.execute_reply.started": "2022-06-18T04:14:07.944127Z"
    },
    "tags": []
   },
   "outputs": [
    {
     "data": {
      "text/plain": [
       "[('Python version',\n",
       "  ['3.10.4 | packaged by conda-forge | (main, Mar 24 2022, 17:34:17) [MSC v.1929 64 bit (AMD64)]']),\n",
       " ('dist', 'N/A'),\n",
       " ('linux_distribution', 'N/A'),\n",
       " ('system', 'Windows'),\n",
       " ('machine', 'AMD64'),\n",
       " ('platform', 'Windows-10-10.0.19041-SP0'),\n",
       " ('uname',\n",
       "  uname_result(system='Windows', node='DF7100NB290', release='10', version='10.0.19041', machine='AMD64')),\n",
       " ('version', '10.0.19041'),\n",
       " ('mac_ver', ('', ('', '', ''), ''))]"
      ]
     },
     "execution_count": 3,
     "metadata": {},
     "output_type": "execute_result"
    }
   ],
   "source": [
    "RogerioDetalhesAmbiente.show_platform()"
   ]
  },
  {
   "cell_type": "markdown",
   "id": "3ab2862e-2de7-467a-bdf8-75c19d5dfc37",
   "metadata": {},
   "source": [
    "### 2.2. Mostra versões das ferramentas CLI"
   ]
  },
  {
   "cell_type": "code",
   "execution_count": 4,
   "id": "aa2d686d-f53e-41ed-8e11-05fffc94442d",
   "metadata": {
    "execution": {
     "iopub.execute_input": "2022-06-18T04:14:08.007130Z",
     "iopub.status.busy": "2022-06-18T04:14:08.006148Z",
     "iopub.status.idle": "2022-06-18T04:14:39.581169Z",
     "shell.execute_reply": "2022-06-18T04:14:39.579169Z",
     "shell.execute_reply.started": "2022-06-18T04:14:08.007130Z"
    },
    "tags": []
   },
   "outputs": [
    {
     "data": {
      "text/plain": [
       "[('python_sys_executable_version', ['Python 3.10.4']),\n",
       " ('pip_version',\n",
       "  ['pip 22.1.2 from c:\\\\Users\\\\c066770\\\\AppData\\\\Local\\\\mambaforge\\\\envs\\\\atau000013_adi2109_siapa\\\\lib\\\\site-packages\\\\pip (python 3.10)',\n",
       "   '']),\n",
       " ('conda_version', ['conda 4.13.0']),\n",
       " ('mamba_version', ['mamba 0.24.0', 'conda 4.13.0']),\n",
       " ('node_version', ['v17.9.0']),\n",
       " ('npm_version', ['8.5.5']),\n",
       " ('jlpm_version', ['1.21.1'])]"
      ]
     },
     "execution_count": 4,
     "metadata": {},
     "output_type": "execute_result"
    }
   ],
   "source": [
    "RogerioDetalhesAmbiente.show_versions()"
   ]
  },
  {
   "cell_type": "markdown",
   "id": "065188fc-ff5a-4304-a480-081d57230341",
   "metadata": {},
   "source": [
    "### 2.3. Mostra os ambientes anaconda (conda/mamba) disponíveis"
   ]
  },
  {
   "cell_type": "code",
   "execution_count": 5,
   "id": "840fa17c-78bc-4df8-89e5-bc2195a98f50",
   "metadata": {
    "execution": {
     "iopub.execute_input": "2022-06-18T04:14:39.590170Z",
     "iopub.status.busy": "2022-06-18T04:14:39.589173Z",
     "iopub.status.idle": "2022-06-18T04:14:52.079907Z",
     "shell.execute_reply": "2022-06-18T04:14:52.078370Z",
     "shell.execute_reply.started": "2022-06-18T04:14:39.590170Z"
    },
    "tags": []
   },
   "outputs": [
    {
     "data": {
      "text/plain": [
       "['# conda environments:',\n",
       " '#',\n",
       " 'OCR_DOSSIE               C:\\\\Users\\\\c066770\\\\AppData\\\\Local\\\\conda\\\\conda\\\\envs\\\\OCR_DOSSIE',\n",
       " 'app-fgts-metricas        C:\\\\Users\\\\c066770\\\\AppData\\\\Local\\\\conda\\\\conda\\\\envs\\\\app-fgts-metricas',\n",
       " 'net_normativos           C:\\\\Users\\\\c066770\\\\AppData\\\\Local\\\\conda\\\\conda\\\\envs\\\\net_normativos',\n",
       " 'ocr_dossie               C:\\\\Users\\\\c066770\\\\AppData\\\\Local\\\\conda\\\\conda\\\\envs\\\\ocr_dossie',\n",
       " 'base                     C:\\\\Users\\\\c066770\\\\AppData\\\\Local\\\\mambaforge',\n",
       " 'atau000013_adi2109_siapa  *  C:\\\\Users\\\\c066770\\\\AppData\\\\Local\\\\mambaforge\\\\envs\\\\atau000013_adi2109_siapa',\n",
       " '']"
      ]
     },
     "execution_count": 5,
     "metadata": {},
     "output_type": "execute_result"
    }
   ],
   "source": [
    "RogerioDetalhesAmbiente.show_anaconda_env_list()"
   ]
  },
  {
   "cell_type": "markdown",
   "id": "e9f1aeb6-d7e1-4cd8-a05a-a6c3d0cefc0b",
   "metadata": {},
   "source": [
    "### 2.4. Mostra os pacotes instalados no ambiente anaconda (conda/mamba)"
   ]
  },
  {
   "cell_type": "code",
   "execution_count": 6,
   "id": "e7968c0a-02b1-40a6-af19-e86396a53316",
   "metadata": {
    "execution": {
     "iopub.execute_input": "2022-06-18T04:14:52.084908Z",
     "iopub.status.busy": "2022-06-18T04:14:52.082908Z",
     "iopub.status.idle": "2022-06-18T04:15:03.754628Z",
     "shell.execute_reply": "2022-06-18T04:15:03.752578Z",
     "shell.execute_reply.started": "2022-06-18T04:14:52.083908Z"
    },
    "tags": []
   },
   "outputs": [
    {
     "data": {
      "text/plain": [
       "['# packages in environment at C:\\\\Users\\\\c066770\\\\AppData\\\\Local\\\\mambaforge\\\\envs\\\\atau000013_adi2109_siapa:',\n",
       " '#',\n",
       " '# Name                    Version                   Build  Channel',\n",
       " 'anyio                     3.6.1           py310h5588dad_0    conda-forge',\n",
       " 'appdirs                   1.4.4              pyh9f0ad1d_0    conda-forge',\n",
       " 'argon2-cffi               21.3.0             pyhd8ed1ab_0    conda-forge',\n",
       " 'argon2-cffi-bindings      21.2.0          py310he2412df_2    conda-forge',\n",
       " 'astroid                   2.11.5          py310h5588dad_0    conda-forge',\n",
       " 'asttokens                 2.0.5              pyhd8ed1ab_0    conda-forge',\n",
       " 'async_generator           1.10                       py_0    conda-forge',\n",
       " 'attrs                     21.4.0             pyhd8ed1ab_0    conda-forge',\n",
       " 'autopep8                  1.5.7              pyhd8ed1ab_0    conda-forge',\n",
       " 'babel                     2.10.1             pyhd8ed1ab_0    conda-forge',\n",
       " 'backcall                  0.2.0              pyh9f0ad1d_0    conda-forge',\n",
       " 'backports                 1.0                        py_2    conda-forge',\n",
       " 'backports.functools_lru_cache 1.6.4              pyhd8ed1ab_0    conda-forge',\n",
       " 'beautifulsoup4            4.11.1             pyha770c72_0    conda-forge',\n",
       " 'black                     22.3.0             pyhd8ed1ab_0    conda-forge',\n",
       " 'bleach                    5.0.0              pyhd8ed1ab_0    conda-forge',\n",
       " 'brotlipy                  0.7.0           py310he2412df_1004    conda-forge',\n",
       " 'bzip2                     1.0.8                h8ffe710_4    conda-forge',\n",
       " 'ca-certificates           2022.6.15            h5b45459_0    conda-forge',\n",
       " 'certifi                   2022.6.15       py310h5588dad_0    conda-forge',\n",
       " 'cffi                      1.15.0          py310hcbf9ad4_0    conda-forge',\n",
       " 'charset-normalizer        2.0.12             pyhd8ed1ab_0    conda-forge',\n",
       " 'click                     8.1.3           py310h5588dad_0    conda-forge',\n",
       " 'colorama                  0.4.4              pyh9f0ad1d_0    conda-forge',\n",
       " 'cryptography              37.0.2          py310ha857299_0    conda-forge',\n",
       " 'dataclasses               0.8                pyhc8e2a94_3    conda-forge',\n",
       " 'debugpy                   1.6.0           py310h8a704f9_0    conda-forge',\n",
       " 'decorator                 5.1.1              pyhd8ed1ab_0    conda-forge',\n",
       " 'defusedxml                0.7.1              pyhd8ed1ab_0    conda-forge',\n",
       " 'dill                      0.3.5.1            pyhd8ed1ab_0    conda-forge',\n",
       " 'docstring-to-markdown     0.10               pyhd8ed1ab_0    conda-forge',\n",
       " 'entrypoints               0.4                pyhd8ed1ab_0    conda-forge',\n",
       " 'executing                 0.8.3              pyhd8ed1ab_0    conda-forge',\n",
       " 'flake8                    3.9.2              pyhd8ed1ab_0    conda-forge',\n",
       " 'flit-core                 3.7.1              pyhd8ed1ab_0    conda-forge',\n",
       " 'gettext                   0.19.8.1          ha2e2712_1008    conda-forge',\n",
       " 'gitdb                     4.0.9              pyhd8ed1ab_0    conda-forge',\n",
       " 'gitpython                 3.1.27             pyhd8ed1ab_0    conda-forge',\n",
       " 'gst-plugins-base          1.20.2               he07aa86_1    conda-forge',\n",
       " 'gstreamer                 1.20.2               hdff456e_1    conda-forge',\n",
       " 'h11                       0.13.0             pyhd8ed1ab_1    conda-forge',\n",
       " 'icu                       70.1                 h0e60522_0    conda-forge',\n",
       " 'idna                      3.3                pyhd8ed1ab_0    conda-forge',\n",
       " 'importlib-metadata        4.11.4          py310h5588dad_0    conda-forge',\n",
       " 'importlib_metadata        4.11.4               hd8ed1ab_0    conda-forge',\n",
       " 'importlib_resources       5.7.1              pyhd8ed1ab_1    conda-forge',\n",
       " 'intel-openmp              2022.1.0          h57928b3_3787    conda-forge',\n",
       " 'ipykernel                 6.13.1          py310hbbfc1a7_0    conda-forge',\n",
       " 'ipython                   8.4.0           py310h5588dad_0    conda-forge',\n",
       " 'ipython_genutils          0.2.0                      py_1    conda-forge',\n",
       " 'ipywidgets                7.7.0              pyhd8ed1ab_0    conda-forge',\n",
       " 'isort                     5.10.1             pyhd8ed1ab_0    conda-forge',\n",
       " 'jedi                      0.18.0          py310h5588dad_3    conda-forge',\n",
       " 'jedi-language-server      0.34.8             pyhd8ed1ab_0    conda-forge',\n",
       " 'jinja2                    3.1.2              pyhd8ed1ab_1    conda-forge',\n",
       " 'joblib                    1.1.0              pyhd8ed1ab_0    conda-forge',\n",
       " 'jpeg                      9e                   h8ffe710_1    conda-forge',\n",
       " 'json5                     0.9.5              pyh9f0ad1d_0    conda-forge',\n",
       " 'jsonschema                4.6.0              pyhd8ed1ab_0    conda-forge',\n",
       " 'jupyter                   1.0.0           py310h5588dad_7    conda-forge',\n",
       " 'jupyter-lsp               1.5.1              pyhd8ed1ab_0    conda-forge',\n",
       " 'jupyter-lsp-python        1.5.1              pyhd8ed1ab_0    conda-forge',\n",
       " 'jupyter-server-mathjax    0.2.5              pyhc268e32_0    conda-forge',\n",
       " 'jupyter_client            7.3.4              pyhd8ed1ab_0    conda-forge',\n",
       " 'jupyter_console           6.4.3              pyhd8ed1ab_0    conda-forge',\n",
       " 'jupyter_contrib_core      0.3.3                      py_2    conda-forge',\n",
       " 'jupyter_contrib_nbextensions 0.5.1              pyhd8ed1ab_2    conda-forge',\n",
       " 'jupyter_core              4.10.0          py310h5588dad_0    conda-forge',\n",
       " 'jupyter_highlight_selected_word 0.2.0           py310h5588dad_1005    conda-forge',\n",
       " 'jupyter_latex_envs        1.4.6           pyhd8ed1ab_1002    conda-forge',\n",
       " 'jupyter_nbextensions_configurator 0.4.1              pyhd8ed1ab_2    conda-forge',\n",
       " 'jupyter_server            1.17.1             pyhd8ed1ab_0    conda-forge',\n",
       " 'jupyterlab                3.4.3              pyhd8ed1ab_0    conda-forge',\n",
       " 'jupyterlab-cell-flash     0.3.4              pyhd8ed1ab_0    conda-forge',\n",
       " 'jupyterlab-git            0.37.1             pyhd8ed1ab_0    conda-forge',\n",
       " 'jupyterlab-lsp            3.10.1             pyhd8ed1ab_0    conda-forge',\n",
       " 'jupyterlab_code_formatter 1.4.11             pyhd8ed1ab_0    conda-forge',\n",
       " 'jupyterlab_execute_time   2.1.0              pyhd8ed1ab_0    conda-forge',\n",
       " 'jupyterlab_pygments       0.2.2              pyhd8ed1ab_0    conda-forge',\n",
       " 'jupyterlab_server         2.14.0             pyhd8ed1ab_0    conda-forge',\n",
       " 'jupyterlab_widgets        1.1.0              pyhd8ed1ab_0    conda-forge',\n",
       " 'krb5                      1.19.3               h1176d77_0    conda-forge',\n",
       " 'lazy-object-proxy         1.7.1           py310he2412df_1    conda-forge',\n",
       " 'libblas                   3.9.0              15_win64_mkl    conda-forge',\n",
       " 'libcblas                  3.9.0              15_win64_mkl    conda-forge',\n",
       " 'libclang                  14.0.5          default_h77d9078_0    conda-forge',\n",
       " 'libclang13                14.0.5          default_h77d9078_0    conda-forge',\n",
       " 'libffi                    3.4.2                h8ffe710_5    conda-forge',\n",
       " 'libglib                   2.70.2               h3be07f2_4    conda-forge',\n",
       " 'libiconv                  1.16                 he774522_0    conda-forge',\n",
       " 'liblapack                 3.9.0              15_win64_mkl    conda-forge',\n",
       " 'libogg                    1.3.4                h8ffe710_1    conda-forge',\n",
       " 'libpng                    1.6.37               h1d00b33_2    conda-forge',\n",
       " 'libsodium                 1.0.18               h8d14728_1    conda-forge',\n",
       " 'libvorbis                 1.3.7                h0e60522_0    conda-forge',\n",
       " 'libxml2                   2.9.14               hf5bbc77_0    conda-forge',\n",
       " 'libxslt                   1.1.35               h34f844d_0    conda-forge',\n",
       " 'libzlib                   1.2.12               h8ffe710_0    conda-forge',\n",
       " 'lxml                      4.9.0           py310he2412df_0    conda-forge',\n",
       " 'lz4-c                     1.9.3                h8ffe710_1    conda-forge',\n",
       " 'mamba_gator               5.1.2              pyhd8ed1ab_0    conda-forge',\n",
       " 'markupsafe                2.1.1           py310he2412df_1    conda-forge',\n",
       " 'matplotlib-inline         0.1.3              pyhd8ed1ab_0    conda-forge',\n",
       " 'mccabe                    0.6.1                      py_1    conda-forge',\n",
       " 'mistune                   0.8.4           py310he2412df_1005    conda-forge',\n",
       " 'mkl                       2022.1.0           h6a75c08_874    conda-forge',\n",
       " 'mypy_extensions           0.4.3           py310h5588dad_5    conda-forge',\n",
       " 'nbclassic                 0.3.7              pyhd8ed1ab_0    conda-forge',\n",
       " 'nbclient                  0.6.4              pyhd8ed1ab_1    conda-forge',\n",
       " 'nbconvert                 6.5.0              pyhd8ed1ab_0    conda-forge',\n",
       " 'nbconvert-core            6.5.0              pyhd8ed1ab_0    conda-forge',\n",
       " 'nbconvert-pandoc          6.5.0              pyhd8ed1ab_0    conda-forge',\n",
       " 'nbconvert-webpdf          6.5.0              pyhd8ed1ab_0    conda-forge',\n",
       " 'nbdime                    3.1.1              pyhd8ed1ab_0    conda-forge',\n",
       " 'nbformat                  5.4.0              pyhd8ed1ab_0    conda-forge',\n",
       " 'nest-asyncio              1.5.5              pyhd8ed1ab_0    conda-forge',\n",
       " 'nodejs                    17.9.0               h57928b3_0    conda-forge',\n",
       " 'notebook                  6.4.12             pyha770c72_0    conda-forge',\n",
       " 'notebook-shim             0.1.0              pyhd8ed1ab_0    conda-forge',\n",
       " 'numpy                     1.22.4          py310hed7ac4c_0    conda-forge',\n",
       " 'openssl                   1.1.1o               h8ffe710_0    conda-forge',\n",
       " 'outcome                   1.1.0              pyhd8ed1ab_0    conda-forge',\n",
       " 'packaging                 21.3               pyhd8ed1ab_0    conda-forge',\n",
       " 'pandas                    1.4.2           py310hf5e1058_2    conda-forge',\n",
       " 'pandoc                    2.18                 h57928b3_0    conda-forge',\n",
       " 'pandocfilters             1.5.0              pyhd8ed1ab_0    conda-forge',\n",
       " 'parso                     0.8.3              pyhd8ed1ab_0    conda-forge',\n",
       " 'pathspec                  0.9.0              pyhd8ed1ab_0    conda-forge',\n",
       " 'pcre                      8.45                 h0e60522_0    conda-forge',\n",
       " 'pexpect                   4.8.0              pyh9f0ad1d_2    conda-forge',\n",
       " 'pickleshare               0.7.5                   py_1003    conda-forge',\n",
       " 'pip                       22.1.2             pyhd8ed1ab_0    conda-forge',\n",
       " 'platformdirs              2.5.1              pyhd8ed1ab_0    conda-forge',\n",
       " 'pluggy                    1.0.0           py310h5588dad_3    conda-forge',\n",
       " 'prometheus_client         0.14.1             pyhd8ed1ab_0    conda-forge',\n",
       " 'prompt-toolkit            3.0.29             pyha770c72_0    conda-forge',\n",
       " 'prompt_toolkit            3.0.29               hd8ed1ab_0    conda-forge',\n",
       " 'psutil                    5.9.1           py310he2412df_0    conda-forge',\n",
       " 'ptyprocess                0.7.0              pyhd3deb0d_0    conda-forge',\n",
       " 'pure_eval                 0.2.2              pyhd8ed1ab_0    conda-forge',\n",
       " 'pycodestyle               2.7.0              pyhd8ed1ab_0    conda-forge',\n",
       " 'pycparser                 2.21               pyhd8ed1ab_0    conda-forge',\n",
       " 'pydantic                  1.8.2           py310he2412df_2    conda-forge',\n",
       " 'pydocstyle                6.1.1              pyhd8ed1ab_0    conda-forge',\n",
       " 'pyee                      8.1.0              pyhd8ed1ab_0    conda-forge',\n",
       " 'pyflakes                  2.3.1              pyhd8ed1ab_0    conda-forge',\n",
       " 'pygls                     0.11.3             pyhd8ed1ab_0    conda-forge',\n",
       " 'pygments                  2.12.0             pyhd8ed1ab_0    conda-forge',\n",
       " 'pylint                    2.14.1             pyhd8ed1ab_0    conda-forge',\n",
       " 'pyopenssl                 22.0.0             pyhd8ed1ab_0    conda-forge',\n",
       " 'pyparsing                 3.0.9              pyhd8ed1ab_0    conda-forge',\n",
       " 'pyppeteer                 1.0.2              pyhd8ed1ab_0    conda-forge',\n",
       " 'pyqt                      5.15.4          py310hbabf5d4_1    conda-forge',\n",
       " 'pyqt5-sip                 12.9.0          py310h8a704f9_1    conda-forge',\n",
       " 'pyrsistent                0.18.1          py310he2412df_1    conda-forge',\n",
       " 'pysocks                   1.7.1           py310h5588dad_5    conda-forge',\n",
       " 'python                    3.10.4          h9a09f29_0_cpython    conda-forge',\n",
       " 'python-dateutil           2.8.2              pyhd8ed1ab_0    conda-forge',\n",
       " 'python-dotenv             0.20.0             pyhd8ed1ab_0    conda-forge',\n",
       " 'python-fastjsonschema     2.15.3             pyhd8ed1ab_0    conda-forge',\n",
       " 'python-lsp-jsonrpc        1.0.0              pyhd8ed1ab_0    conda-forge',\n",
       " 'python-lsp-server         1.2.1              pyhd8ed1ab_0    conda-forge',\n",
       " 'python_abi                3.10                    2_cp310    conda-forge',\n",
       " 'pytz                      2022.1             pyhd8ed1ab_0    conda-forge',\n",
       " 'pywin32                   303             py310he2412df_0    conda-forge',\n",
       " 'pywinpty                  2.0.5           py310h00ffb61_1    conda-forge',\n",
       " 'pyyaml                    6.0             py310he2412df_4    conda-forge',\n",
       " 'pyzmq                     23.1.0          py310h73ada01_0    conda-forge',\n",
       " 'qt-main                   5.15.4               h467ea89_2    conda-forge',\n",
       " 'qtconsole                 5.3.1              pyhd8ed1ab_0    conda-forge',\n",
       " 'qtconsole-base            5.3.1              pyha770c72_0    conda-forge',\n",
       " 'qtpy                      2.1.0              pyhd8ed1ab_0    conda-forge',\n",
       " 'requests                  2.28.0             pyhd8ed1ab_0    conda-forge',\n",
       " 'rope                      1.1.1              pyhd8ed1ab_0    conda-forge',\n",
       " 'selenium                  4.2.0              pyhd8ed1ab_0    conda-forge',\n",
       " 'send2trash                1.8.0              pyhd8ed1ab_0    conda-forge',\n",
       " 'setuptools                62.3.3          py310h5588dad_0    conda-forge',\n",
       " 'sip                       6.5.1           py310h8a704f9_2    conda-forge',\n",
       " 'six                       1.16.0             pyh6c4a22f_0    conda-forge',\n",
       " 'smmap                     3.0.5              pyh44b312d_0    conda-forge',\n",
       " 'sniffio                   1.2.0           py310h5588dad_3    conda-forge',\n",
       " 'snowballstemmer           2.2.0              pyhd8ed1ab_0    conda-forge',\n",
       " 'sortedcontainers          2.4.0              pyhd8ed1ab_0    conda-forge',\n",
       " 'soupsieve                 2.3.1              pyhd8ed1ab_0    conda-forge',\n",
       " 'sqlite                    3.38.5               h8ffe710_0    conda-forge',\n",
       " 'stack_data                0.2.0              pyhd8ed1ab_0    conda-forge',\n",
       " 'tbb                       2021.5.0             h2d74725_1    conda-forge',\n",
       " 'terminado                 0.15.0          py310h5588dad_0    conda-forge',\n",
       " 'tinycss2                  1.1.1              pyhd8ed1ab_0    conda-forge',\n",
       " 'tk                        8.6.12               h8ffe710_0    conda-forge',\n",
       " 'toml                      0.10.2             pyhd8ed1ab_0    conda-forge',\n",
       " 'tomli                     2.0.1              pyhd8ed1ab_0    conda-forge',\n",
       " 'tomlkit                   0.11.0             pyha770c72_0    conda-forge',\n",
       " 'tornado                   6.1             py310he2412df_3    conda-forge',\n",
       " 'tqdm                      4.64.0             pyhd8ed1ab_0    conda-forge',\n",
       " 'traitlets                 5.2.2.post1        pyhd8ed1ab_0    conda-forge',\n",
       " 'trio                      0.21.0          py310h5588dad_0    conda-forge',\n",
       " 'trio-websocket            0.9.2              pyhd8ed1ab_0    conda-forge',\n",
       " 'typed-ast                 1.5.4           py310he2412df_0    conda-forge',\n",
       " 'typeguard                 2.13.0             pyhd8ed1ab_0    conda-forge',\n",
       " 'typing                    3.10.0.0           pyhd8ed1ab_0    conda-forge',\n",
       " 'typing-extensions         4.2.0                hd8ed1ab_1    conda-forge',\n",
       " 'typing_extensions         4.2.0              pyha770c72_1    conda-forge',\n",
       " 'tzdata                    2022a                h191b570_0    conda-forge',\n",
       " 'ucrt                      10.0.20348.0         h57928b3_0    conda-forge',\n",
       " 'ujson                     5.3.0           py310h8a704f9_0    conda-forge',\n",
       " 'urllib3                   1.26.9             pyhd8ed1ab_0    conda-forge',\n",
       " 'vc                        14.2                 hb210afc_6    conda-forge',\n",
       " 'vs2015_runtime            14.29.30037          h902a5da_6    conda-forge',\n",
       " 'wcwidth                   0.2.5              pyh9f0ad1d_2    conda-forge',\n",
       " 'webencodings              0.5.1                      py_1    conda-forge',\n",
       " 'websocket-client          1.3.2              pyhd8ed1ab_0    conda-forge',\n",
       " 'websockets                10.3            py310he2412df_0    conda-forge',\n",
       " 'wheel                     0.37.1             pyhd8ed1ab_0    conda-forge',\n",
       " 'widgetsnbextension        3.6.0           py310h5588dad_0    conda-forge',\n",
       " 'win_inet_pton             1.1.0           py310h5588dad_4    conda-forge',\n",
       " 'winpty                    0.4.3                         4    conda-forge',\n",
       " 'wrapt                     1.14.1          py310he2412df_0    conda-forge',\n",
       " 'wsproto                   1.1.0           py310h5588dad_1    conda-forge',\n",
       " 'xlrd                      2.0.1              pyhd8ed1ab_3    conda-forge',\n",
       " 'xz                        5.2.5                h62dcd97_1    conda-forge',\n",
       " 'yaml                      0.2.5                h8ffe710_2    conda-forge',\n",
       " 'yapf                      0.32.0             pyhd8ed1ab_0    conda-forge',\n",
       " 'zeromq                    4.3.4                h0e60522_1    conda-forge',\n",
       " 'zipp                      3.8.0              pyhd8ed1ab_0    conda-forge',\n",
       " 'zlib                      1.2.12               h8ffe710_0    conda-forge',\n",
       " 'zstd                      1.5.2                h6255e5f_1    conda-forge']"
      ]
     },
     "execution_count": 6,
     "metadata": {},
     "output_type": "execute_result"
    }
   ],
   "source": [
    "RogerioDetalhesAmbiente.show_anaconda_pkg_list()"
   ]
  },
  {
   "cell_type": "markdown",
   "id": "8158f774-928c-4819-8a4e-6d1923413380",
   "metadata": {},
   "source": [
    "### 2.5. Mostra os pacotes instalados no pip"
   ]
  },
  {
   "cell_type": "code",
   "execution_count": 7,
   "id": "f6f7bf50-6c68-4bef-881a-c34915127684",
   "metadata": {
    "execution": {
     "iopub.execute_input": "2022-06-18T04:15:03.758520Z",
     "iopub.status.busy": "2022-06-18T04:15:03.754628Z",
     "iopub.status.idle": "2022-06-18T04:15:24.990865Z",
     "shell.execute_reply": "2022-06-18T04:15:24.988816Z",
     "shell.execute_reply.started": "2022-06-18T04:15:03.758520Z"
    },
    "tags": []
   },
   "outputs": [
    {
     "data": {
      "text/plain": [
       "['anyio @ file:///D:/bld/anyio_1652464130670/work/dist',\n",
       " 'appdirs @ file:///home/conda/feedstock_root/build_artifacts/appdirs_1603108395799/work',\n",
       " 'argon2-cffi @ file:///home/conda/feedstock_root/build_artifacts/argon2-cffi_1640817743617/work',\n",
       " 'argon2-cffi-bindings @ file:///D:/bld/argon2-cffi-bindings_1649500527917/work',\n",
       " 'astroid @ file:///D:/bld/astroid_1652112115410/work',\n",
       " 'asttokens @ file:///home/conda/feedstock_root/build_artifacts/asttokens_1618968359944/work',\n",
       " 'async-generator==1.10',\n",
       " 'attrs @ file:///home/conda/feedstock_root/build_artifacts/attrs_1640799537051/work',\n",
       " 'autopep8 @ file:///home/conda/feedstock_root/build_artifacts/autopep8_1619771482781/work',\n",
       " 'Babel @ file:///home/conda/feedstock_root/build_artifacts/babel_1651737115240/work',\n",
       " 'backcall @ file:///home/conda/feedstock_root/build_artifacts/backcall_1592338393461/work',\n",
       " 'backports.functools-lru-cache @ file:///home/conda/feedstock_root/build_artifacts/backports.functools_lru_cache_1618230623929/work',\n",
       " 'beautifulsoup4 @ file:///home/conda/feedstock_root/build_artifacts/beautifulsoup4_1649463573192/work',\n",
       " 'black @ file:///home/conda/feedstock_root/build_artifacts/black-recipe_1648499330704/work',\n",
       " 'bleach @ file:///home/conda/feedstock_root/build_artifacts/bleach_1649361991009/work',\n",
       " 'brotlipy @ file:///D:/bld/brotlipy_1648854347500/work',\n",
       " 'certifi==2022.6.15',\n",
       " 'cffi @ file:///D:/bld/cffi_1636046270630/work',\n",
       " 'charset-normalizer @ file:///home/conda/feedstock_root/build_artifacts/charset-normalizer_1644853463426/work',\n",
       " 'click @ file:///D:/bld/click_1651215332191/work',\n",
       " 'colorama @ file:///home/conda/feedstock_root/build_artifacts/colorama_1602866480661/work',\n",
       " 'cryptography @ file:///D:/bld/cryptography_1652967200171/work',\n",
       " 'dataclasses @ file:///home/conda/feedstock_root/build_artifacts/dataclasses_1628958434797/work',\n",
       " 'debugpy @ file:///D:/bld/debugpy_1649586532851/work',\n",
       " 'decorator @ file:///home/conda/feedstock_root/build_artifacts/decorator_1641555617451/work',\n",
       " 'defusedxml @ file:///home/conda/feedstock_root/build_artifacts/defusedxml_1615232257335/work',\n",
       " 'dill @ file:///home/conda/feedstock_root/build_artifacts/dill_1653058582944/work',\n",
       " 'docstring-to-markdown @ file:///home/conda/feedstock_root/build_artifacts/docstring-to-markdown_1637247638475/work',\n",
       " 'entrypoints @ file:///home/conda/feedstock_root/build_artifacts/entrypoints_1643888246732/work',\n",
       " 'executing @ file:///home/conda/feedstock_root/build_artifacts/executing_1646044401614/work',\n",
       " 'fastjsonschema @ file:///home/conda/feedstock_root/build_artifacts/python-fastjsonschema_1641751198313/work/dist',\n",
       " 'flake8 @ file:///home/conda/feedstock_root/build_artifacts/flake8_1620668104928/work',\n",
       " 'flit_core @ file:///home/conda/feedstock_root/build_artifacts/flit-core_1645629044586/work/source/flit_core',\n",
       " 'gitdb @ file:///home/conda/feedstock_root/build_artifacts/gitdb_1635085722655/work',\n",
       " 'GitPython @ file:///home/conda/feedstock_root/build_artifacts/gitpython_1645531658201/work',\n",
       " 'h11 @ file:///home/conda/feedstock_root/build_artifacts/h11_1652727116927/work',\n",
       " 'idna @ file:///home/conda/feedstock_root/build_artifacts/idna_1642433548627/work',\n",
       " 'importlib-metadata @ file:///D:/bld/importlib-metadata_1653252994979/work',\n",
       " 'importlib-resources @ file:///home/conda/feedstock_root/build_artifacts/importlib_resources_1652715758048/work',\n",
       " 'ipykernel @ file:///D:/bld/ipykernel_1654565052815/work',\n",
       " 'ipython @ file:///D:/bld/ipython_1653755095589/work',\n",
       " 'ipython-genutils==0.2.0',\n",
       " 'ipywidgets @ file:///home/conda/feedstock_root/build_artifacts/ipywidgets_1647456365981/work',\n",
       " 'isort @ file:///home/conda/feedstock_root/build_artifacts/isort_1636447814597/work',\n",
       " 'jedi @ file:///D:/bld/jedi_1635824174646/work',\n",
       " 'jedi-language-server @ file:///home/conda/feedstock_root/build_artifacts/jedi-language-server_1635259916374/work',\n",
       " 'Jinja2 @ file:///home/conda/feedstock_root/build_artifacts/jinja2_1654302431367/work',\n",
       " 'joblib @ file:///home/conda/feedstock_root/build_artifacts/joblib_1633637554808/work',\n",
       " 'json5 @ file:///home/conda/feedstock_root/build_artifacts/json5_1600692310011/work',\n",
       " 'jsonschema @ file:///home/conda/feedstock_root/build_artifacts/jsonschema-meta_1654138136460/work',\n",
       " 'jupyter @ file:///D:/bld/jupyter_1637233334138/work',\n",
       " 'jupyter-client @ file:///home/conda/feedstock_root/build_artifacts/jupyter_client_1654730843242/work',\n",
       " 'jupyter-console @ file:///home/conda/feedstock_root/build_artifacts/jupyter_console_1646669715337/work',\n",
       " 'jupyter-contrib-core==0.3.3',\n",
       " 'jupyter-contrib-nbextensions @ file:///home/conda/feedstock_root/build_artifacts/jupyter_contrib_nbextensions_1614931162960/work',\n",
       " 'jupyter-core @ file:///D:/bld/jupyter_core_1652365483950/work',\n",
       " 'jupyter-highlight-selected-word @ file:///D:/bld/jupyter_highlight_selected_word_1638383123828/work',\n",
       " 'jupyter-latex-envs @ file:///home/conda/feedstock_root/build_artifacts/jupyter_latex_envs_1614852190293/work',\n",
       " 'jupyter-lsp @ file:///home/conda/feedstock_root/build_artifacts/jupyter-lsp-meta_1639326415622/work/jupyter-lsp',\n",
       " 'jupyter-nbextensions-configurator @ file:///home/conda/feedstock_root/build_artifacts/jupyter_nbextensions_configurator_1614851341942/work',\n",
       " 'jupyter-server @ file:///home/conda/feedstock_root/build_artifacts/jupyter_server_1654636144140/work',\n",
       " 'jupyter-server-mathjax @ file:///home/conda/feedstock_root/build_artifacts/jupyter-server-mathjax_1645541128695/work',\n",
       " 'jupyterlab @ file:///home/conda/feedstock_root/build_artifacts/jupyterlab_1654621376725/work',\n",
       " 'jupyterlab-cell-flash @ file:///home/conda/feedstock_root/build_artifacts/jupyterlab-cell-flash_1631716394785/work',\n",
       " 'jupyterlab-code-formatter @ file:///home/conda/feedstock_root/build_artifacts/jupyterlab_code_formatter_1651414032440/work',\n",
       " 'jupyterlab-execute-time @ file:///home/conda/feedstock_root/build_artifacts/jupyterlab_execute_time_1633144625372/work',\n",
       " 'jupyterlab-git @ file:///home/conda/feedstock_root/build_artifacts/jupyterlab-git_1650975607360/work',\n",
       " 'jupyterlab-lsp @ file:///home/conda/feedstock_root/build_artifacts/jupyter-lsp-meta_1647904782549/work/jupyterlab-lsp',\n",
       " 'jupyterlab-pygments @ file:///home/conda/feedstock_root/build_artifacts/jupyterlab_pygments_1649936611996/work',\n",
       " 'jupyterlab-server @ file:///home/conda/feedstock_root/build_artifacts/jupyterlab_server_1652878309867/work',\n",
       " 'jupyterlab-widgets @ file:///home/conda/feedstock_root/build_artifacts/jupyterlab_widgets_1647446862951/work',\n",
       " 'lazy-object-proxy @ file:///D:/bld/lazy-object-proxy_1649033326177/work',\n",
       " 'lxml @ file:///D:/bld/lxml_1654081972402/work',\n",
       " 'mamba-gator @ file:///home/conda/feedstock_root/build_artifacts/mamba_gator-meta_1630671633780/work',\n",
       " 'MarkupSafe @ file:///D:/bld/markupsafe_1648737731599/work',\n",
       " 'matplotlib-inline @ file:///home/conda/feedstock_root/build_artifacts/matplotlib-inline_1631080358261/work',\n",
       " 'mccabe==0.6.1',\n",
       " 'mistune @ file:///D:/bld/mistune_1635844812333/work',\n",
       " 'mypy-extensions @ file:///D:/bld/mypy_extensions_1649013486700/work',\n",
       " 'nbclassic @ file:///home/conda/feedstock_root/build_artifacts/nbclassic_1647450696711/work',\n",
       " 'nbclient @ file:///home/conda/feedstock_root/build_artifacts/nbclient_1654071785565/work',\n",
       " 'nbconvert @ file:///home/conda/feedstock_root/build_artifacts/nbconvert-meta_1649676641343/work',\n",
       " 'nbdime @ file:///home/conda/feedstock_root/build_artifacts/nbdime_1635269257164/work',\n",
       " 'nbformat @ file:///home/conda/feedstock_root/build_artifacts/nbformat_1651607001005/work',\n",
       " 'nest-asyncio @ file:///home/conda/feedstock_root/build_artifacts/nest-asyncio_1648959695634/work',\n",
       " 'notebook @ file:///home/conda/feedstock_root/build_artifacts/notebook_1654636967533/work',\n",
       " 'notebook-shim @ file:///home/conda/feedstock_root/build_artifacts/notebook-shim_1646330736330/work',\n",
       " 'numpy @ file:///D:/bld/numpy_1653325554875/work',\n",
       " 'outcome @ file:///home/conda/feedstock_root/build_artifacts/outcome_1606397708505/work',\n",
       " 'packaging @ file:///home/conda/feedstock_root/build_artifacts/packaging_1637239678211/work',\n",
       " 'pandas @ file:///D:/bld/pandas_1653497263811/work',\n",
       " 'pandocfilters @ file:///home/conda/feedstock_root/build_artifacts/pandocfilters_1631603243851/work',\n",
       " 'parso @ file:///home/conda/feedstock_root/build_artifacts/parso_1638334955874/work',\n",
       " 'pathspec @ file:///home/conda/feedstock_root/build_artifacts/pathspec_1626613672358/work',\n",
       " 'pexpect @ file:///home/conda/feedstock_root/build_artifacts/pexpect_1602535608087/work',\n",
       " 'pickleshare @ file:///home/conda/feedstock_root/build_artifacts/pickleshare_1602536217715/work',\n",
       " 'platformdirs @ file:///home/conda/feedstock_root/build_artifacts/platformdirs_1645298319244/work',\n",
       " 'pluggy @ file:///D:/bld/pluggy_1648772793723/work',\n",
       " 'prometheus-client @ file:///home/conda/feedstock_root/build_artifacts/prometheus_client_1649447152425/work',\n",
       " 'prompt-toolkit @ file:///home/conda/feedstock_root/build_artifacts/prompt-toolkit_1649130487073/work',\n",
       " 'psutil @ file:///D:/bld/psutil_1653089388778/work',\n",
       " 'ptyprocess @ file:///home/conda/feedstock_root/build_artifacts/ptyprocess_1609419310487/work/dist/ptyprocess-0.7.0-py2.py3-none-any.whl',\n",
       " 'pure-eval @ file:///home/conda/feedstock_root/build_artifacts/pure_eval_1642875951954/work',\n",
       " 'pycodestyle @ file:///home/conda/feedstock_root/build_artifacts/pycodestyle_1615833610040/work',\n",
       " 'pycparser @ file:///home/conda/feedstock_root/build_artifacts/pycparser_1636257122734/work',\n",
       " 'pydantic @ file:///D:/bld/pydantic_1636021314642/work',\n",
       " 'pydocstyle @ file:///home/conda/feedstock_root/build_artifacts/pydocstyle_1621377123289/work',\n",
       " 'pyee @ file:///home/conda/feedstock_root/build_artifacts/pyee_1644152123334/work',\n",
       " 'pyflakes @ file:///home/conda/feedstock_root/build_artifacts/pyflakes_1616623675904/work',\n",
       " 'pygls @ file:///home/conda/feedstock_root/build_artifacts/pygls_1636217117670/work/dist',\n",
       " 'Pygments @ file:///home/conda/feedstock_root/build_artifacts/pygments_1650904496387/work',\n",
       " 'pylint @ file:///home/conda/feedstock_root/build_artifacts/pylint_1654597844531/work',\n",
       " 'pyOpenSSL @ file:///home/conda/feedstock_root/build_artifacts/pyopenssl_1643496850550/work',\n",
       " 'pyparsing @ file:///home/conda/feedstock_root/build_artifacts/pyparsing_1652235407899/work',\n",
       " 'pyppeteer @ file:///home/conda/feedstock_root/build_artifacts/pyppeteer_1643233645996/work',\n",
       " 'PyQt5==5.15.4',\n",
       " 'PyQt5-sip @ file:///D:/bld/pyqt-split_1654255853002/work/pyqt_sip',\n",
       " 'pyrsistent @ file:///D:/bld/pyrsistent_1649013512562/work',\n",
       " 'PySocks @ file:///D:/bld/pysocks_1648857426124/work',\n",
       " 'python-dateutil @ file:///home/conda/feedstock_root/build_artifacts/python-dateutil_1626286286081/work',\n",
       " 'python-dotenv @ file:///home/conda/feedstock_root/build_artifacts/python-dotenv_1648162816482/work',\n",
       " 'python-lsp-jsonrpc @ file:///home/conda/feedstock_root/build_artifacts/python-lsp-jsonrpc_1618530352985/work',\n",
       " 'python-lsp-server @ file:///home/conda/feedstock_root/build_artifacts/python-lsp-server_1628113199343/work',\n",
       " 'pytz @ file:///home/conda/feedstock_root/build_artifacts/pytz_1647961439546/work',\n",
       " 'pywin32==303',\n",
       " 'pywinpty @ file:///D:/bld/pywinpty_1649088350877/work/target/wheels/pywinpty-2.0.5-cp310-none-win_amd64.whl',\n",
       " 'PyYAML @ file:///D:/bld/pyyaml_1648757288117/work',\n",
       " 'pyzmq @ file:///D:/bld/pyzmq_1654181546388/work',\n",
       " 'qtconsole @ file:///home/conda/feedstock_root/build_artifacts/qtconsole-base_1654465674650/work',\n",
       " 'QtPy @ file:///home/conda/feedstock_root/build_artifacts/qtpy_1651524593465/work',\n",
       " 'requests @ file:///home/conda/feedstock_root/build_artifacts/requests_1654796491502/work',\n",
       " 'rope @ file:///home/conda/feedstock_root/build_artifacts/rope_1653489009999/work',\n",
       " 'selenium @ file:///home/conda/feedstock_root/build_artifacts/selenium_1654004856587/work/src/py',\n",
       " 'Send2Trash @ file:///home/conda/feedstock_root/build_artifacts/send2trash_1628511208346/work',\n",
       " 'sip @ file:///D:/bld/sip_1646101407041/work',\n",
       " 'six @ file:///home/conda/feedstock_root/build_artifacts/six_1620240208055/work',\n",
       " 'smmap @ file:///home/conda/feedstock_root/build_artifacts/smmap_1611376390914/work',\n",
       " 'sniffio @ file:///D:/bld/sniffio_1648819361572/work',\n",
       " 'snowballstemmer @ file:///home/conda/feedstock_root/build_artifacts/snowballstemmer_1637143057757/work',\n",
       " 'sortedcontainers @ file:///home/conda/feedstock_root/build_artifacts/sortedcontainers_1621217038088/work',\n",
       " 'soupsieve @ file:///home/conda/feedstock_root/build_artifacts/soupsieve_1638550740809/work',\n",
       " 'stack-data @ file:///home/conda/feedstock_root/build_artifacts/stack_data_1644872665635/work',\n",
       " 'terminado @ file:///D:/bld/terminado_1652790796353/work',\n",
       " 'tinycss2 @ file:///home/conda/feedstock_root/build_artifacts/tinycss2_1637612658783/work',\n",
       " 'toml @ file:///home/conda/feedstock_root/build_artifacts/toml_1604308577558/work',\n",
       " 'tomli @ file:///home/conda/feedstock_root/build_artifacts/tomli_1644342247877/work',\n",
       " 'tomlkit @ file:///home/conda/feedstock_root/build_artifacts/tomlkit_1653380885187/work',\n",
       " 'tornado @ file:///D:/bld/tornado_1648827438424/work',\n",
       " 'tqdm @ file:///home/conda/feedstock_root/build_artifacts/tqdm_1649051611147/work',\n",
       " 'traitlets @ file:///home/conda/feedstock_root/build_artifacts/traitlets_1654067514780/work',\n",
       " 'trio @ file:///D:/bld/trio_1654688477302/work',\n",
       " 'trio-websocket @ file:///home/conda/feedstock_root/build_artifacts/trio-websocket_1641849081899/work/dist',\n",
       " 'typed-ast @ file:///D:/bld/typed-ast_1653226193858/work',\n",
       " 'typeguard @ file:///home/conda/feedstock_root/build_artifacts/typeguard_1633937540703/work',\n",
       " 'typing_extensions @ file:///home/conda/feedstock_root/build_artifacts/typing_extensions_1650370875435/work',\n",
       " 'ujson @ file:///D:/bld/ujson_1653057514151/work',\n",
       " 'urllib3 @ file:///home/conda/feedstock_root/build_artifacts/urllib3_1647489083693/work',\n",
       " 'wcwidth @ file:///home/conda/feedstock_root/build_artifacts/wcwidth_1600965781394/work',\n",
       " 'webencodings==0.5.1',\n",
       " 'websocket-client @ file:///home/conda/feedstock_root/build_artifacts/websocket-client_1648562593984/work',\n",
       " 'websockets @ file:///D:/bld/websockets_1650300549706/work',\n",
       " 'widgetsnbextension @ file:///D:/bld/widgetsnbextension_1647447176344/work',\n",
       " 'win-inet-pton @ file:///D:/bld/win_inet_pton_1648771897787/work',\n",
       " 'wrapt @ file:///D:/bld/wrapt_1651495425905/work',\n",
       " 'wsproto @ file:///D:/bld/wsproto_1652747973550/work',\n",
       " 'xlrd @ file:///home/conda/feedstock_root/build_artifacts/xlrd_1610224409810/work',\n",
       " 'yapf @ file:///home/conda/feedstock_root/build_artifacts/yapf_1641487982943/work',\n",
       " 'zipp @ file:///home/conda/feedstock_root/build_artifacts/zipp_1649012893348/work']"
      ]
     },
     "execution_count": 7,
     "metadata": {},
     "output_type": "execute_result"
    }
   ],
   "source": [
    "RogerioDetalhesAmbiente.show_pip_freeze()"
   ]
  },
  {
   "cell_type": "markdown",
   "id": "079d9f34-aeba-4ba6-b739-b7a75a9f39eb",
   "metadata": {},
   "source": [
    "### 2.6. Mostra as extensões jupyter lab"
   ]
  },
  {
   "cell_type": "code",
   "execution_count": 8,
   "id": "9229dc72-73ca-40b2-ad4f-017a470b2d9c",
   "metadata": {
    "execution": {
     "iopub.execute_input": "2022-06-18T04:15:24.990865Z",
     "iopub.status.busy": "2022-06-18T04:15:24.990865Z",
     "iopub.status.idle": "2022-06-18T04:15:36.497815Z",
     "shell.execute_reply": "2022-06-18T04:15:36.495817Z",
     "shell.execute_reply.started": "2022-06-18T04:15:24.990865Z"
    },
    "tags": []
   },
   "outputs": [
    {
     "data": {
      "text/plain": [
       "['JupyterLab v3.4.3',\n",
       " 'C:\\\\Users\\\\c066770\\\\AppData\\\\Local\\\\mambaforge\\\\envs\\\\atau000013_adi2109_siapa\\\\share\\\\jupyter\\\\labextensions',\n",
       " '        jupyterlab-cell-flash v0.3.4 enabled ok (python, jupyterlab-cell-flash)',\n",
       " '        jupyterlab-execute-time v2.1.0 enabled ok (python, jupyterlab_execute_time)',\n",
       " '        jupyterlab_pygments v0.2.2 enabled ok (python, jupyterlab_pygments)',\n",
       " '        nbdime-jupyterlab v2.1.1 enabled ok',\n",
       " '        @jupyter-widgets/jupyterlab-manager v3.1.0 enabled ok (python, jupyterlab_widgets)',\n",
       " '        @jupyterlab/git v0.37.1 enabled ok (python, jupyterlab-git)',\n",
       " '        @krassowski/jupyterlab-lsp v3.10.1 enabled ok (python, jupyterlab-lsp)',\n",
       " '        @mamba-org/gator-lab v3.0.2 enabled ok (python, mamba_gator)',\n",
       " '        @ryantam626/jupyterlab_code_formatter v1.4.11 enabled ok (python, jupyterlab-code-formatter)',\n",
       " '',\n",
       " 'Other labextensions (built into JupyterLab)',\n",
       " '   app dir: C:\\\\Users\\\\c066770\\\\AppData\\\\Local\\\\mambaforge\\\\envs\\\\atau000013_adi2109_siapa\\\\share\\\\jupyter\\\\lab',\n",
       " '        @ryantam626/jupyterlab_sublime v0.4.1 enabled ok',\n",
       " '        jupyterlab-topbar v0.6.0 enabled ok',\n",
       " '']"
      ]
     },
     "execution_count": 8,
     "metadata": {},
     "output_type": "execute_result"
    }
   ],
   "source": [
    "RogerioDetalhesAmbiente.show_jupyter_lab_ext_list()"
   ]
  },
  {
   "cell_type": "markdown",
   "id": "cc7d6164-f59c-4768-bb8f-df5eb228a40a",
   "metadata": {},
   "source": [
    "### 2.7. Mostra as extensões jupyter server"
   ]
  },
  {
   "cell_type": "code",
   "execution_count": 9,
   "id": "f60e3777-f1d5-4e70-9013-e73e56ec243c",
   "metadata": {
    "execution": {
     "iopub.execute_input": "2022-06-18T04:15:36.501815Z",
     "iopub.status.busy": "2022-06-18T04:15:36.500816Z",
     "iopub.status.idle": "2022-06-18T04:15:46.315176Z",
     "shell.execute_reply": "2022-06-18T04:15:46.314175Z",
     "shell.execute_reply.started": "2022-06-18T04:15:36.501815Z"
    },
    "tags": []
   },
   "outputs": [
    {
     "data": {
      "text/plain": [
       "['config dir: C:\\\\Users\\\\c066770\\\\.jupyter',\n",
       " '    jupyter_nbextensions_configurator enabled ',\n",
       " '    - Validating...',\n",
       " '      jupyter_nbextensions_configurator 0.4.1 ok',\n",
       " 'config dir: C:\\\\Users\\\\c066770\\\\AppData\\\\Local\\\\mambaforge\\\\envs\\\\atau000013_adi2109_siapa\\\\etc\\\\jupyter',\n",
       " '    jupyter_lsp enabled ',\n",
       " '    - Validating...',\n",
       " '      jupyter_lsp 1.5.1 ok',\n",
       " '    jupyterlab enabled ',\n",
       " '    - Validating...',\n",
       " '      jupyterlab 3.4.3 ok',\n",
       " '    jupyterlab_code_formatter enabled ',\n",
       " '    - Validating...',\n",
       " '      jupyterlab_code_formatter 1.4.11 ok',\n",
       " '    jupyterlab_git enabled ',\n",
       " '    - Validating...',\n",
       " '      jupyterlab_git 0.37.1 ok',\n",
       " '    mamba_gator enabled ',\n",
       " '    - Validating...',\n",
       " '      mamba_gator 5.1.2 ok',\n",
       " '    nbdime enabled ',\n",
       " '    - Validating...',\n",
       " '      nbdime 3.1.1 ok']"
      ]
     },
     "execution_count": 9,
     "metadata": {},
     "output_type": "execute_result"
    }
   ],
   "source": [
    "RogerioDetalhesAmbiente.show_jupyter_server_ext_list()"
   ]
  },
  {
   "cell_type": "markdown",
   "id": "0f9cc8e5-3aa2-45ee-9e4b-c9596ee9589f",
   "metadata": {},
   "source": [
    "### 2.8. Caminho do nosso script no sistema de arquivos"
   ]
  },
  {
   "cell_type": "code",
   "execution_count": 10,
   "id": "4cd5b26c-b6a8-45bc-939e-f8254b2c384d",
   "metadata": {
    "execution": {
     "iopub.execute_input": "2022-06-18T04:15:46.319177Z",
     "iopub.status.busy": "2022-06-18T04:15:46.318179Z",
     "iopub.status.idle": "2022-06-18T04:15:46.346178Z",
     "shell.execute_reply": "2022-06-18T04:15:46.345176Z",
     "shell.execute_reply.started": "2022-06-18T04:15:46.319177Z"
    },
    "tags": []
   },
   "outputs": [
    {
     "data": {
      "text/plain": [
       "'c:\\\\Users\\\\c066770\\\\projetos\\\\cmndd\\\\python-detalhes-ambiente\\\\001_notebooks'"
      ]
     },
     "execution_count": 10,
     "metadata": {},
     "output_type": "execute_result"
    }
   ],
   "source": [
    "RogerioDetalhesAmbiente.show_current_directory_path()"
   ]
  },
  {
   "cell_type": "markdown",
   "id": "4528a7f8-adf3-426c-a856-ba84d00e9462",
   "metadata": {},
   "source": [
    "### 2.9. Caminho do diretório pai"
   ]
  },
  {
   "cell_type": "code",
   "execution_count": 11,
   "id": "8854e3ae-96e2-4b26-92c1-64187c8fc8bb",
   "metadata": {
    "execution": {
     "iopub.execute_input": "2022-06-18T04:15:46.351179Z",
     "iopub.status.busy": "2022-06-18T04:15:46.349177Z",
     "iopub.status.idle": "2022-06-18T04:15:46.379176Z",
     "shell.execute_reply": "2022-06-18T04:15:46.377181Z",
     "shell.execute_reply.started": "2022-06-18T04:15:46.351179Z"
    },
    "tags": []
   },
   "outputs": [
    {
     "data": {
      "text/plain": [
       "'c:\\\\Users\\\\c066770\\\\projetos\\\\cmndd\\\\python-detalhes-ambiente'"
      ]
     },
     "execution_count": 11,
     "metadata": {},
     "output_type": "execute_result"
    }
   ],
   "source": [
    "RogerioDetalhesAmbiente.show_parent_directory_path()"
   ]
  },
  {
   "cell_type": "markdown",
   "id": "450c609f-b87b-4668-9309-940265cd45b2",
   "metadata": {},
   "source": [
    "### 2.10. Mostra as informações do ambiente anaconda"
   ]
  },
  {
   "cell_type": "code",
   "execution_count": 12,
   "id": "56c91c96-ca36-4362-9abc-ad9f823de05f",
   "metadata": {
    "execution": {
     "iopub.execute_input": "2022-06-18T04:15:46.384179Z",
     "iopub.status.busy": "2022-06-18T04:15:46.384179Z",
     "iopub.status.idle": "2022-06-18T04:15:51.371507Z",
     "shell.execute_reply": "2022-06-18T04:15:51.371507Z",
     "shell.execute_reply.started": "2022-06-18T04:15:46.384179Z"
    },
    "tags": []
   },
   "outputs": [
    {
     "data": {
      "text/plain": [
       "['',\n",
       " '                  __    __    __    __',\n",
       " '                 /  \\\\  /  \\\\  /  \\\\  /  \\\\',\n",
       " '                /    \\\\/    \\\\/    \\\\/    \\\\',\n",
       " '███████████████/  /██/  /██/  /██/  /████████████████████████',\n",
       " '              /  / \\\\   / \\\\   / \\\\   / \\\\  \\\\____',\n",
       " '             /  /   \\\\_/   \\\\_/   \\\\_/   \\\\    o \\\\__,',\n",
       " '            / _/                       \\\\_____/  `',\n",
       " '            |/',\n",
       " '        ███╗   ███╗ █████╗ ███╗   ███╗██████╗  █████╗',\n",
       " '        ████╗ ████║██╔══██╗████╗ ████║██╔══██╗██╔══██╗',\n",
       " '        ██╔████╔██║███████║██╔████╔██║██████╔╝███████║',\n",
       " '        ██║╚██╔╝██║██╔══██║██║╚██╔╝██║██╔══██╗██╔══██║',\n",
       " '        ██║ ╚═╝ ██║██║  ██║██║ ╚═╝ ██║██████╔╝██║  ██║',\n",
       " '        ╚═╝     ╚═╝╚═╝  ╚═╝╚═╝     ╚═╝╚═════╝ ╚═╝  ╚═╝',\n",
       " '',\n",
       " '        mamba (0.24.0) supported by @QuantStack',\n",
       " '',\n",
       " '        GitHub:  https://github.com/mamba-org/mamba',\n",
       " '        Twitter: https://twitter.com/QuantStack',\n",
       " '',\n",
       " '█████████████████████████████████████████████████████████████',\n",
       " '',\n",
       " '',\n",
       " '     active environment : atau000013_adi2109_siapa',\n",
       " '    active env location : C:\\\\Users\\\\c066770\\\\AppData\\\\Local\\\\mambaforge\\\\envs\\\\atau000013_adi2109_siapa',\n",
       " '            shell level : 1',\n",
       " '       user config file : C:\\\\Users\\\\c066770\\\\.condarc',\n",
       " ' populated config files : C:\\\\Users\\\\c066770\\\\AppData\\\\Local\\\\mambaforge\\\\.condarc',\n",
       " '                          C:\\\\Users\\\\c066770\\\\.condarc',\n",
       " '          conda version : 4.13.0',\n",
       " '    conda-build version : not installed',\n",
       " '         python version : 3.9.13.final.0',\n",
       " '       virtual packages : __win=0=0',\n",
       " '                          __archspec=1=x86_64',\n",
       " '       base environment : C:\\\\Users\\\\c066770\\\\AppData\\\\Local\\\\mambaforge  (writable)',\n",
       " '      conda av data dir : C:\\\\Users\\\\c066770\\\\AppData\\\\Local\\\\mambaforge\\\\etc\\\\conda',\n",
       " '  conda av metadata url : None',\n",
       " '           channel URLs : https://conda.anaconda.org/conda-forge/win-64',\n",
       " '                          https://conda.anaconda.org/conda-forge/noarch',\n",
       " '                          https://repo.anaconda.com/pkgs/main/win-64',\n",
       " '                          https://repo.anaconda.com/pkgs/main/noarch',\n",
       " '                          https://repo.anaconda.com/pkgs/r/win-64',\n",
       " '                          https://repo.anaconda.com/pkgs/r/noarch',\n",
       " '                          https://repo.anaconda.com/pkgs/msys2/win-64',\n",
       " '                          https://repo.anaconda.com/pkgs/msys2/noarch',\n",
       " '          package cache : C:\\\\Users\\\\c066770\\\\AppData\\\\Local\\\\mambaforge\\\\pkgs',\n",
       " '                          C:\\\\Users\\\\c066770\\\\.conda\\\\pkgs',\n",
       " '                          C:\\\\Users\\\\c066770\\\\AppData\\\\Local\\\\conda\\\\conda\\\\pkgs',\n",
       " '       envs directories : C:\\\\Users\\\\c066770\\\\AppData\\\\Local\\\\mambaforge\\\\envs',\n",
       " '                          C:\\\\Users\\\\c066770\\\\.conda\\\\envs',\n",
       " '                          C:\\\\Users\\\\c066770\\\\AppData\\\\Local\\\\conda\\\\conda\\\\envs',\n",
       " '               platform : win-64',\n",
       " '             user-agent : conda/4.13.0 requests/2.27.1 CPython/3.9.13 Windows/10 Windows/10.0.19041',\n",
       " '          administrator : False',\n",
       " '             netrc file : None',\n",
       " '           offline mode : False',\n",
       " '']"
      ]
     },
     "execution_count": 12,
     "metadata": {},
     "output_type": "execute_result"
    }
   ],
   "source": [
    "RogerioDetalhesAmbiente.show_anaconda_info()"
   ]
  },
  {
   "cell_type": "markdown",
   "id": "36f803b3-c9fe-4f61-a88f-d5a04d48c08e",
   "metadata": {},
   "source": [
    "### 2.11. Mostra as configurações do ambiente anaconda"
   ]
  },
  {
   "cell_type": "code",
   "execution_count": 13,
   "id": "585c2373-e0e1-49ee-9a8e-a7380265e212",
   "metadata": {
    "execution": {
     "iopub.execute_input": "2022-06-18T04:15:51.371507Z",
     "iopub.status.busy": "2022-06-18T04:15:51.371507Z",
     "iopub.status.idle": "2022-06-18T04:15:59.035834Z",
     "shell.execute_reply": "2022-06-18T04:15:59.033484Z",
     "shell.execute_reply.started": "2022-06-18T04:15:51.371507Z"
    },
    "tags": []
   },
   "outputs": [
    {
     "data": {
      "text/plain": [
       "['add_anaconda_token: True',\n",
       " 'add_pip_as_python_dependency: True',\n",
       " 'aggressive_update_packages:',\n",
       " '  - ca-certificates',\n",
       " '  - certifi',\n",
       " '  - openssl',\n",
       " 'allow_conda_downgrades: False',\n",
       " 'allow_cycles: True',\n",
       " 'allow_non_channel_urls: False',\n",
       " 'allow_softlinks: False',\n",
       " 'always_copy: False',\n",
       " 'always_softlink: False',\n",
       " 'always_yes: None',\n",
       " 'anaconda_upload: None',\n",
       " 'auto_activate_base: True',\n",
       " 'auto_stack: 0',\n",
       " 'auto_update_conda: True',\n",
       " 'bld_path: ',\n",
       " 'changeps1: True',\n",
       " 'channel_alias: https://conda.anaconda.org',\n",
       " 'channel_priority: strict',\n",
       " 'channels:',\n",
       " '  - conda-forge',\n",
       " '  - defaults',\n",
       " 'client_ssl_cert: None',\n",
       " 'client_ssl_cert_key: None',\n",
       " 'clobber: False',\n",
       " 'conda_build: {}',\n",
       " 'create_default_packages: []',\n",
       " 'croot: C:\\\\Users\\\\c066770\\\\AppData\\\\Local\\\\mambaforge\\\\conda-bld',\n",
       " 'custom_channels:',\n",
       " '  pkgs/main: https://repo.anaconda.com',\n",
       " '  pkgs/r: https://repo.anaconda.com',\n",
       " '  pkgs/msys2: https://repo.anaconda.com',\n",
       " '  pkgs/pro: https://repo.anaconda.com',\n",
       " 'custom_multichannels:',\n",
       " '  defaults: ',\n",
       " '    - https://repo.anaconda.com/pkgs/main',\n",
       " '    - https://repo.anaconda.com/pkgs/r',\n",
       " '    - https://repo.anaconda.com/pkgs/msys2',\n",
       " '  local: ',\n",
       " 'debug: False',\n",
       " 'default_channels:',\n",
       " '  - https://repo.anaconda.com/pkgs/main',\n",
       " '  - https://repo.anaconda.com/pkgs/r',\n",
       " '  - https://repo.anaconda.com/pkgs/msys2',\n",
       " 'default_python: 3.9',\n",
       " 'default_threads: None',\n",
       " 'deps_modifier: not_set',\n",
       " 'dev: False',\n",
       " 'disallowed_packages: []',\n",
       " 'download_only: False',\n",
       " 'dry_run: False',\n",
       " 'enable_private_envs: False',\n",
       " 'env_prompt: ({default_env}) ',\n",
       " 'envs_dirs:',\n",
       " '  - C:\\\\Users\\\\c066770\\\\AppData\\\\Local\\\\mambaforge\\\\envs',\n",
       " '  - C:\\\\Users\\\\c066770\\\\.conda\\\\envs',\n",
       " '  - C:\\\\Users\\\\c066770\\\\AppData\\\\Local\\\\conda\\\\conda\\\\envs',\n",
       " 'error_upload_url: https://conda.io/conda-post/unexpected-error',\n",
       " 'execute_threads: 1',\n",
       " 'experimental_solver: classic',\n",
       " 'extra_safety_checks: False',\n",
       " 'force: False',\n",
       " 'force_32bit: False',\n",
       " 'force_reinstall: False',\n",
       " 'force_remove: False',\n",
       " 'ignore_pinned: False',\n",
       " 'json: False',\n",
       " 'local_repodata_ttl: 1',\n",
       " 'migrated_channel_aliases: []',\n",
       " 'migrated_custom_channels: {}',\n",
       " 'non_admin_enabled: True',\n",
       " 'notify_outdated_conda: True',\n",
       " 'offline: False',\n",
       " 'override_channels_enabled: True',\n",
       " 'path_conflict: clobber',\n",
       " 'pinned_packages: []',\n",
       " 'pip_interop_enabled: False',\n",
       " 'pkgs_dirs:',\n",
       " '  - C:\\\\Users\\\\c066770\\\\AppData\\\\Local\\\\mambaforge\\\\pkgs',\n",
       " '  - C:\\\\Users\\\\c066770\\\\.conda\\\\pkgs',\n",
       " '  - C:\\\\Users\\\\c066770\\\\AppData\\\\Local\\\\conda\\\\conda\\\\pkgs',\n",
       " 'proxy_servers: {}',\n",
       " 'quiet: False',\n",
       " 'remote_backoff_factor: 1',\n",
       " 'remote_connect_timeout_secs: 9.15',\n",
       " 'remote_max_retries: 3',\n",
       " 'remote_read_timeout_secs: 60.0',\n",
       " 'repodata_fns:',\n",
       " '  - current_repodata.json',\n",
       " '  - repodata.json',\n",
       " 'repodata_threads: None',\n",
       " 'report_errors: None',\n",
       " 'restore_free_channel: False',\n",
       " 'rollback_enabled: True',\n",
       " 'root_prefix: C:\\\\Users\\\\c066770\\\\AppData\\\\Local\\\\mambaforge',\n",
       " 'safety_checks: warn',\n",
       " 'sat_solver: pycosat',\n",
       " 'separate_format_cache: False',\n",
       " 'shortcuts: True',\n",
       " 'show_channel_urls: None',\n",
       " 'signing_metadata_url_base: None',\n",
       " 'solver_ignore_timestamps: False',\n",
       " 'ssl_verify: True',\n",
       " 'subdir: win-64',\n",
       " 'subdirs:',\n",
       " '  - win-64',\n",
       " '  - noarch',\n",
       " 'target_prefix_override: ',\n",
       " 'track_features: []',\n",
       " 'unsatisfiable_hints: True',\n",
       " 'unsatisfiable_hints_check_depth: 2',\n",
       " 'update_modifier: update_specs',\n",
       " 'use_index_cache: False',\n",
       " 'use_local: False',\n",
       " 'use_only_tar_bz2: False',\n",
       " 'verbosity: 0',\n",
       " 'verify_threads: 1',\n",
       " 'whitelist_channels: []']"
      ]
     },
     "execution_count": 13,
     "metadata": {},
     "output_type": "execute_result"
    }
   ],
   "source": [
    "RogerioDetalhesAmbiente.show_anaconda_config_show()"
   ]
  },
  {
   "cell_type": "code",
   "execution_count": null,
   "id": "805fd91b-e824-4612-8aa0-6754017b1074",
   "metadata": {},
   "outputs": [],
   "source": []
  }
 ],
 "metadata": {
  "interpreter": {
   "hash": "ba51381344883a318b3dad2b482e48b2f170b93d04cbe1ffc5c1e803362755c9"
  },
  "kernelspec": {
   "display_name": "Python 3 (ipykernel)",
   "language": "python",
   "name": "python3"
  },
  "language_info": {
   "codemirror_mode": {
    "name": "ipython",
    "version": 3
   },
   "file_extension": ".py",
   "mimetype": "text/x-python",
   "name": "python",
   "nbconvert_exporter": "python",
   "pygments_lexer": "ipython3",
   "version": "3.10.4"
  }
 },
 "nbformat": 4,
 "nbformat_minor": 5
}
