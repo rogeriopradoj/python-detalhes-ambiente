{
 "cells": [
  {
   "cell_type": "markdown",
   "id": "fc9aed0d-2985-4fbf-8b5e-c0f6033a5054",
   "metadata": {},
   "source": [
    "# 000_detalhes_ambiente.ipynb"
   ]
  },
  {
   "cell_type": "markdown",
   "id": "c43976b3-820b-4fd8-9181-c719c3fb0d2c",
   "metadata": {},
   "source": [
    "<https://github.com/rogeriopradoj/python-detalhes-ambiente>\n",
    "\n",
    "Notebook que busca detalhar todos os detalhes do ambiente do seu ambiente python / anaconda / jupyter."
   ]
  },
  {
   "cell_type": "markdown",
   "id": "77189f2c-163f-4e06-9169-5567210784ab",
   "metadata": {
    "execution": {
     "iopub.execute_input": "2022-06-15T13:53:02.133633Z",
     "iopub.status.busy": "2022-06-15T13:53:02.133633Z",
     "iopub.status.idle": "2022-06-15T13:53:02.161628Z",
     "shell.execute_reply": "2022-06-15T13:53:02.158635Z",
     "shell.execute_reply.started": "2022-06-15T13:53:02.133633Z"
    }
   },
   "source": [
    "Baseado no script disponível <https://stackoverflow.com/a/10091465/1330750>."
   ]
  },
  {
   "cell_type": "markdown",
   "id": "26177763-642f-4be3-b129-d586f839320c",
   "metadata": {},
   "source": [
    "## 1. Carrega dependências do script"
   ]
  },
  {
   "cell_type": "code",
   "execution_count": 1,
   "id": "8c490695-6b44-48da-8a97-0a5af0e3cd09",
   "metadata": {
    "tags": []
   },
   "outputs": [],
   "source": [
    "import os\n",
    "import platform\n",
    "\n",
    "import IPython"
   ]
  },
  {
   "cell_type": "markdown",
   "id": "81225177-1f63-4aa9-8492-0d56eb3e70a2",
   "metadata": {},
   "source": [
    "### 1.2. Define classe e métodos"
   ]
  },
  {
   "cell_type": "code",
   "execution_count": 2,
   "id": "de0416e4-fa83-46c1-a457-ca51cf6987a3",
   "metadata": {
    "tags": []
   },
   "outputs": [],
   "source": [
    "class RogerioDetalhesAmbiente:\n",
    "    @staticmethod\n",
    "    def show_platform():\n",
    "        def linux_distribution():\n",
    "            try:\n",
    "                return platform.linux_distribution()\n",
    "            except:\n",
    "                return \"N/A\"\n",
    "        def dist():\n",
    "            try:\n",
    "                return platform.dist()\n",
    "            except:\n",
    "                return \"N/A\"\n",
    "\n",
    "        results = {}\n",
    "        method_output = []\n",
    "        commands = {\n",
    "            \"Python version\": os.sys.version.split(\"\\n\"),\n",
    "            \"dist\": str(dist()),\n",
    "            \"linux_distribution\": linux_distribution(),\n",
    "            \"system\": platform.system(),\n",
    "            \"machine\": platform.machine(),\n",
    "            \"platform\": platform.platform(),\n",
    "            \"uname\": platform.uname(),\n",
    "            \"version\": platform.version(),\n",
    "            \"mac_ver\": platform.mac_ver(),\n",
    "        }\n",
    "\n",
    "        for tool, tool_command in commands.items():\n",
    "            tool_result = tool_command\n",
    "            results[tool] = tool_result\n",
    "\n",
    "        for tool, tool_result in results.items():\n",
    "            method_output.append((tool, tool_result))\n",
    "\n",
    "        return method_output\n",
    "\n",
    "    @staticmethod\n",
    "    def show_versions():\n",
    "        results = {}\n",
    "        method_output = []\n",
    "        commands = {\n",
    "            \"python_sys_executable_version\": f\"{os.sys.executable} --version\",\n",
    "            \"pip_version\": f\"{os.sys.executable} -m pip --version\",\n",
    "            \"conda_version\": \"conda --version\",\n",
    "            \"mamba_version\": \"mamba --version\",\n",
    "            \"node_version\": \"node --version\",\n",
    "            \"npm_version\": \"npm --version\",\n",
    "            \"jlpm_version\": \"jlpm --version\",\n",
    "        }\n",
    "\n",
    "        for tool, tool_command in commands.items():\n",
    "            tool_result = !{tool_command}\n",
    "            if not RogerioDetalhesAmbiente.command_exists(tool_result):\n",
    "                tool_result = \"N/A\"\n",
    "            results[tool] = tool_result\n",
    "\n",
    "        for tool, tool_result in results.items():\n",
    "            method_output.append((tool, tool_result))\n",
    "\n",
    "        return method_output\n",
    "\n",
    "    @staticmethod\n",
    "    def show_anaconda_env_list():\n",
    "        method_output = !mamba env list\n",
    "\n",
    "        if ( RogerioDetalhesAmbiente.command_exists(method_output) ):\n",
    "            return method_output\n",
    "\n",
    "        method_output = !conda env list\n",
    "\n",
    "        if ( RogerioDetalhesAmbiente.command_exists(method_output) ):\n",
    "            return \"N/A\"\n",
    "\n",
    "        return method_output\n",
    "\n",
    "    @staticmethod\n",
    "    def show_anaconda_pkg_list():\n",
    "        method_output = !mamba list\n",
    "\n",
    "        if ( RogerioDetalhesAmbiente.command_exists(method_output) ):\n",
    "            return method_output\n",
    "\n",
    "        method_output = !conda list\n",
    "\n",
    "        if ( RogerioDetalhesAmbiente.command_exists(method_output) ):\n",
    "            return \"N/A\"\n",
    "\n",
    "        return method_output\n",
    "\n",
    "    @staticmethod\n",
    "    def show_pip_freeze():\n",
    "        method_output = !pip freeze\n",
    "\n",
    "        if not RogerioDetalhesAmbiente.command_exists(method_output):\n",
    "            return \"N/A\"\n",
    "\n",
    "        return method_output\n",
    "\n",
    "    @staticmethod\n",
    "    def show_jupyter_lab_ext_list():\n",
    "        method_output = !jupyter labextension list\n",
    "\n",
    "        if not RogerioDetalhesAmbiente.command_exists(method_output):\n",
    "            return \"N/A\"\n",
    "\n",
    "        return method_output\n",
    "\n",
    "    @staticmethod\n",
    "    def show_jupyter_server_ext_list():\n",
    "        method_output = !jupyter serverextension list\n",
    "\n",
    "        if not RogerioDetalhesAmbiente.command_exists(method_output):\n",
    "            return \"N/A\"\n",
    "\n",
    "        return method_output\n",
    "\n",
    "    @staticmethod\n",
    "    def show_current_directory_path():\n",
    "        return os.getcwd()\n",
    "\n",
    "    @staticmethod\n",
    "    def show_parent_directory_path():\n",
    "        return os.path.abspath(os.path.join(os.getcwd(), \"..\"))\n",
    "\n",
    "    @staticmethod\n",
    "    def show_anaconda_info():\n",
    "        method_output = !mamba info\n",
    "\n",
    "        if ( RogerioDetalhesAmbiente.command_exists(method_output) ):\n",
    "            return method_output\n",
    "\n",
    "        method_output = !conda info\n",
    "\n",
    "        if ( RogerioDetalhesAmbiente.command_exists(method_output) ):\n",
    "            return \"N/A\"\n",
    "\n",
    "        return method_output\n",
    "\n",
    "    @staticmethod\n",
    "    def show_anaconda_config_show():\n",
    "        method_output = !conda config --show\n",
    "\n",
    "        if not RogerioDetalhesAmbiente.command_exists(method_output):\n",
    "            return \"N/A\"\n",
    "\n",
    "        return method_output\n",
    "\n",
    "    def command_exists(cli_output: IPython.utils.text.SList):\n",
    "        return not ( cli_output.spstr.__contains__('reconhecido como um comando') )"
   ]
  },
  {
   "cell_type": "markdown",
   "id": "7eeb4894-82c9-4bfe-af1d-dd63ad6b0a21",
   "metadata": {},
   "source": [
    "## 2. Detalhamentos"
   ]
  },
  {
   "cell_type": "markdown",
   "id": "f886d3ea-ac26-4365-aff7-2cf15f308cff",
   "metadata": {},
   "source": [
    "### 2.1. Mostra detalhes gerais da plataforma"
   ]
  },
  {
   "cell_type": "code",
   "execution_count": 3,
   "id": "75f26b15-2fd6-49f9-a90e-e5f2eb7f81e0",
   "metadata": {
    "tags": []
   },
   "outputs": [
    {
     "data": {
      "text/plain": [
       "[('Python version',\n",
       "  ['3.10.5 | packaged by conda-forge | (main, Jun 14 2022, 07:07:06) [Clang 13.0.1 ]']),\n",
       " ('dist', 'N/A'),\n",
       " ('linux_distribution', 'N/A'),\n",
       " ('system', 'Darwin'),\n",
       " ('machine', 'arm64'),\n",
       " ('platform', 'macOS-12.4-arm64-arm-64bit'),\n",
       " ('uname',\n",
       "  uname_result(system='Darwin', node='RGOs-MacBook-Pro.local', release='21.5.0', version='Darwin Kernel Version 21.5.0: Tue Apr 26 21:08:37 PDT 2022; root:xnu-8020.121.3~4/RELEASE_ARM64_T6000', machine='arm64')),\n",
       " ('version',\n",
       "  'Darwin Kernel Version 21.5.0: Tue Apr 26 21:08:37 PDT 2022; root:xnu-8020.121.3~4/RELEASE_ARM64_T6000'),\n",
       " ('mac_ver', ('12.4', ('', '', ''), 'arm64'))]"
      ]
     },
     "execution_count": 3,
     "metadata": {},
     "output_type": "execute_result"
    }
   ],
   "source": [
    "RogerioDetalhesAmbiente.show_platform()"
   ]
  },
  {
   "cell_type": "markdown",
   "id": "3ab2862e-2de7-467a-bdf8-75c19d5dfc37",
   "metadata": {},
   "source": [
    "### 2.2. Mostra versões das ferramentas CLI"
   ]
  },
  {
   "cell_type": "code",
   "execution_count": 4,
   "id": "aa2d686d-f53e-41ed-8e11-05fffc94442d",
   "metadata": {
    "tags": []
   },
   "outputs": [
    {
     "data": {
      "text/plain": [
       "[('python_sys_executable_version', ['Python 3.10.5']),\n",
       " ('pip_version',\n",
       "  ['pip 22.1.2 from /opt/homebrew/Caskroom/mambaforge/base/envs/python-detalhes-ambiente/lib/python3.10/site-packages/pip (python 3.10)']),\n",
       " ('conda_version', ['conda 4.12.0']),\n",
       " ('mamba_version', ['mamba 0.22.1', 'conda 4.12.0']),\n",
       " ('node_version', ['zsh:1: command not found: node']),\n",
       " ('npm_version', ['zsh:1: command not found: npm']),\n",
       " ('jlpm_version',\n",
       "  ['Traceback (most recent call last):',\n",
       "   '  File \"/opt/homebrew/Caskroom/mambaforge/base/envs/python-detalhes-ambiente/bin/jlpm\", line 10, in <module>',\n",
       "   '    sys.exit(main())',\n",
       "   '  File \"/opt/homebrew/Caskroom/mambaforge/base/envs/python-detalhes-ambiente/lib/python3.10/site-packages/jupyterlab/jlpmapp.py\", line 44, in main',\n",
       "   '    execvp(\"node\", [\"node\", YARN_PATH] + argv)',\n",
       "   '  File \"/opt/homebrew/Caskroom/mambaforge/base/envs/python-detalhes-ambiente/lib/python3.10/site-packages/jupyterlab/jlpmapp.py\", line 25, in execvp',\n",
       "   '    cmd = which(cmd)',\n",
       "   '  File \"/opt/homebrew/Caskroom/mambaforge/base/envs/python-detalhes-ambiente/lib/python3.10/site-packages/jupyterlab_server/process.py\", line 57, in which',\n",
       "   '    raise ValueError(msg)',\n",
       "   'ValueError: Please install Node.js and npm before continuing installation. You may be able to install Node.js from your package manager, from conda, or directly from the Node.js website (https://nodejs.org).'])]"
      ]
     },
     "execution_count": 4,
     "metadata": {},
     "output_type": "execute_result"
    }
   ],
   "source": [
    "RogerioDetalhesAmbiente.show_versions()"
   ]
  },
  {
   "cell_type": "markdown",
   "id": "065188fc-ff5a-4304-a480-081d57230341",
   "metadata": {},
   "source": [
    "### 2.3. Mostra os ambientes anaconda (conda/mamba) disponíveis"
   ]
  },
  {
   "cell_type": "code",
   "execution_count": 5,
   "id": "840fa17c-78bc-4df8-89e5-bc2195a98f50",
   "metadata": {
    "tags": []
   },
   "outputs": [
    {
     "data": {
      "text/plain": [
       "['# conda environments:',\n",
       " '#',\n",
       " 'base                     /opt/homebrew/Caskroom/mambaforge/base',\n",
       " 'python-detalhes-ambiente  *  /opt/homebrew/Caskroom/mambaforge/base/envs/python-detalhes-ambiente',\n",
       " '']"
      ]
     },
     "execution_count": 5,
     "metadata": {},
     "output_type": "execute_result"
    }
   ],
   "source": [
    "RogerioDetalhesAmbiente.show_anaconda_env_list()"
   ]
  },
  {
   "cell_type": "markdown",
   "id": "e9f1aeb6-d7e1-4cd8-a05a-a6c3d0cefc0b",
   "metadata": {},
   "source": [
    "### 2.4. Mostra os pacotes instalados no ambiente anaconda (conda/mamba)"
   ]
  },
  {
   "cell_type": "code",
   "execution_count": 6,
   "id": "e7968c0a-02b1-40a6-af19-e86396a53316",
   "metadata": {
    "tags": []
   },
   "outputs": [
    {
     "data": {
      "text/plain": [
       "['# packages in environment at /opt/homebrew/Caskroom/mambaforge/base/envs/python-detalhes-ambiente:',\n",
       " '#',\n",
       " '# Name                    Version                   Build  Channel',\n",
       " 'anyio                     3.6.1           py310hbe9552e_0    conda-forge',\n",
       " 'appnope                   0.1.3              pyhd8ed1ab_0    conda-forge',\n",
       " 'argon2-cffi               21.3.0             pyhd8ed1ab_0    conda-forge',\n",
       " 'argon2-cffi-bindings      21.2.0          py310hf8d0d8f_2    conda-forge',\n",
       " 'asttokens                 2.0.5              pyhd8ed1ab_0    conda-forge',\n",
       " 'attrs                     21.4.0             pyhd8ed1ab_0    conda-forge',\n",
       " 'babel                     2.10.3             pyhd8ed1ab_0    conda-forge',\n",
       " 'backcall                  0.2.0              pyh9f0ad1d_0    conda-forge',\n",
       " 'backports                 1.0                        py_2    conda-forge',\n",
       " 'backports.functools_lru_cache 1.6.4              pyhd8ed1ab_0    conda-forge',\n",
       " 'beautifulsoup4            4.11.1             pyha770c72_0    conda-forge',\n",
       " 'bleach                    5.0.1              pyhd8ed1ab_0    conda-forge',\n",
       " 'brotlipy                  0.7.0           py310hf8d0d8f_1004    conda-forge',\n",
       " 'bzip2                     1.0.8                h3422bc3_4    conda-forge',\n",
       " 'ca-certificates           2022.6.15            h4653dfc_0    conda-forge',\n",
       " 'certifi                   2022.6.15       py310hbe9552e_0    conda-forge',\n",
       " 'cffi                      1.15.1          py310he00a5c5_0    conda-forge',\n",
       " 'charset-normalizer        2.1.0              pyhd8ed1ab_0    conda-forge',\n",
       " 'cryptography              37.0.4          py310h94bb23d_0    conda-forge',\n",
       " 'debugpy                   1.6.0           py310h1105856_0    conda-forge',\n",
       " 'decorator                 5.1.1              pyhd8ed1ab_0    conda-forge',\n",
       " 'defusedxml                0.7.1              pyhd8ed1ab_0    conda-forge',\n",
       " 'entrypoints               0.4                pyhd8ed1ab_0    conda-forge',\n",
       " 'executing                 0.8.3              pyhd8ed1ab_0    conda-forge',\n",
       " 'flit-core                 3.7.1              pyhd8ed1ab_0    conda-forge',\n",
       " 'idna                      3.3                pyhd8ed1ab_0    conda-forge',\n",
       " 'importlib-metadata        4.11.4          py310hbe9552e_0    conda-forge',\n",
       " 'importlib_metadata        4.11.4               hd8ed1ab_0    conda-forge',\n",
       " 'importlib_resources       5.8.0              pyhd8ed1ab_0    conda-forge',\n",
       " 'ipykernel                 6.15.1             pyh736e0ef_0    conda-forge',\n",
       " 'ipython                   8.4.0           py310hbe9552e_0    conda-forge',\n",
       " 'ipython_genutils          0.2.0                      py_1    conda-forge',\n",
       " 'jedi                      0.18.1          py310hbe9552e_1    conda-forge',\n",
       " 'jinja2                    3.1.2              pyhd8ed1ab_1    conda-forge',\n",
       " 'json5                     0.9.5              pyh9f0ad1d_0    conda-forge',\n",
       " 'jsonschema                4.7.2              pyhd8ed1ab_0    conda-forge',\n",
       " 'jupyter_client            7.3.4              pyhd8ed1ab_0    conda-forge',\n",
       " 'jupyter_core              4.10.0          py310hbe9552e_0    conda-forge',\n",
       " 'jupyter_server            1.16.0             pyhd8ed1ab_0    conda-forge',\n",
       " 'jupyterlab                3.4.3              pyhd8ed1ab_0    conda-forge',\n",
       " 'jupyterlab_pygments       0.2.2              pyhd8ed1ab_0    conda-forge',\n",
       " 'jupyterlab_server         2.15.0             pyhd8ed1ab_0    conda-forge',\n",
       " 'libcxx                    14.0.6               h04bba0f_0    conda-forge',\n",
       " 'libffi                    3.4.2                h3422bc3_5    conda-forge',\n",
       " 'libsodium                 1.0.18               h27ca646_1    conda-forge',\n",
       " 'libzlib                   1.2.12               ha287fd2_1    conda-forge',\n",
       " 'markupsafe                2.1.1           py310hf8d0d8f_1    conda-forge',\n",
       " 'matplotlib-inline         0.1.3              pyhd8ed1ab_0    conda-forge',\n",
       " 'mistune                   0.8.4           py310he2143c4_1005    conda-forge',\n",
       " 'nbclassic                 0.3.7              pyhd8ed1ab_0    conda-forge',\n",
       " 'nbclient                  0.5.13             pyhd8ed1ab_0    conda-forge',\n",
       " 'nbconvert                 6.4.5           py310hbe9552e_0    conda-forge',\n",
       " 'nbformat                  5.4.0              pyhd8ed1ab_0    conda-forge',\n",
       " 'ncurses                   6.3                  h07bb92c_1    conda-forge',\n",
       " 'nest-asyncio              1.5.5              pyhd8ed1ab_0    conda-forge',\n",
       " 'notebook                  6.4.12             pyha770c72_0    conda-forge',\n",
       " 'notebook-shim             0.1.0              pyhd8ed1ab_0    conda-forge',\n",
       " 'openssl                   1.1.1q               ha287fd2_0    conda-forge',\n",
       " 'packaging                 21.3               pyhd8ed1ab_0    conda-forge',\n",
       " 'pandocfilters             1.5.0              pyhd8ed1ab_0    conda-forge',\n",
       " 'parso                     0.8.3              pyhd8ed1ab_0    conda-forge',\n",
       " 'pexpect                   4.8.0              pyh9f0ad1d_2    conda-forge',\n",
       " 'pickleshare               0.7.5                   py_1003    conda-forge',\n",
       " 'pip                       22.1.2             pyhd8ed1ab_0    conda-forge',\n",
       " 'prometheus_client         0.14.1             pyhd8ed1ab_0    conda-forge',\n",
       " 'prompt-toolkit            3.0.30             pyha770c72_0    conda-forge',\n",
       " 'psutil                    5.9.1           py310h02f21da_0    conda-forge',\n",
       " 'ptyprocess                0.7.0              pyhd3deb0d_0    conda-forge',\n",
       " 'pure_eval                 0.2.2              pyhd8ed1ab_0    conda-forge',\n",
       " 'pycparser                 2.21               pyhd8ed1ab_0    conda-forge',\n",
       " 'pygments                  2.12.0             pyhd8ed1ab_0    conda-forge',\n",
       " 'pyopenssl                 22.0.0             pyhd8ed1ab_0    conda-forge',\n",
       " 'pyparsing                 3.0.9              pyhd8ed1ab_0    conda-forge',\n",
       " 'pyrsistent                0.18.1          py310hf8d0d8f_1    conda-forge',\n",
       " 'pysocks                   1.7.1           py310hbe9552e_5    conda-forge',\n",
       " 'python                    3.10.5          h71ab1a4_0_cpython    conda-forge',\n",
       " 'python-dateutil           2.8.2              pyhd8ed1ab_0    conda-forge',\n",
       " 'python-fastjsonschema     2.15.3             pyhd8ed1ab_0    conda-forge',\n",
       " 'python_abi                3.10                    2_cp310    conda-forge',\n",
       " 'pytz                      2022.1             pyhd8ed1ab_0    conda-forge',\n",
       " 'pyzmq                     23.2.0          py310hede2015_0    conda-forge',\n",
       " 'readline                  8.1.2                h46ed386_0    conda-forge',\n",
       " 'requests                  2.28.1             pyhd8ed1ab_0    conda-forge',\n",
       " 'send2trash                1.8.0              pyhd8ed1ab_0    conda-forge',\n",
       " 'setuptools                63.1.0          py310hbe9552e_0    conda-forge',\n",
       " 'six                       1.16.0             pyh6c4a22f_0    conda-forge',\n",
       " 'sniffio                   1.2.0           py310hbe9552e_3    conda-forge',\n",
       " 'soupsieve                 2.3.1              pyhd8ed1ab_0    conda-forge',\n",
       " 'sqlite                    3.39.0               h40dfcc0_0    conda-forge',\n",
       " 'stack_data                0.3.0              pyhd8ed1ab_0    conda-forge',\n",
       " 'terminado                 0.15.0          py310hbe9552e_0    conda-forge',\n",
       " 'testpath                  0.6.0              pyhd8ed1ab_0    conda-forge',\n",
       " 'tk                        8.6.12               he1e0b03_0    conda-forge',\n",
       " 'tornado                   6.2             py310h02f21da_0    conda-forge',\n",
       " 'traitlets                 5.3.0              pyhd8ed1ab_0    conda-forge',\n",
       " 'tzdata                    2022a                h191b570_0    conda-forge',\n",
       " 'urllib3                   1.26.10            pyhd8ed1ab_0    conda-forge',\n",
       " 'wcwidth                   0.2.5              pyh9f0ad1d_2    conda-forge',\n",
       " 'webencodings              0.5.1                      py_1    conda-forge',\n",
       " 'websocket-client          1.3.3              pyhd8ed1ab_0    conda-forge',\n",
       " 'wheel                     0.37.1             pyhd8ed1ab_0    conda-forge',\n",
       " 'xz                        5.2.5                h642e427_1    conda-forge',\n",
       " 'zeromq                    4.3.4                hbdafb3b_1    conda-forge',\n",
       " 'zipp                      3.8.0              pyhd8ed1ab_0    conda-forge',\n",
       " 'zlib                      1.2.12               ha287fd2_1    conda-forge']"
      ]
     },
     "execution_count": 6,
     "metadata": {},
     "output_type": "execute_result"
    }
   ],
   "source": [
    "RogerioDetalhesAmbiente.show_anaconda_pkg_list()"
   ]
  },
  {
   "cell_type": "markdown",
   "id": "8158f774-928c-4819-8a4e-6d1923413380",
   "metadata": {},
   "source": [
    "### 2.5. Mostra os pacotes instalados no pip"
   ]
  },
  {
   "cell_type": "code",
   "execution_count": 7,
   "id": "f6f7bf50-6c68-4bef-881a-c34915127684",
   "metadata": {
    "tags": []
   },
   "outputs": [
    {
     "data": {
      "text/plain": [
       "['anyio @ file:///Users/runner/miniforge3/conda-bld/anyio_1652463935149/work/dist',\n",
       " 'appnope @ file:///home/conda/feedstock_root/build_artifacts/appnope_1649077682618/work',\n",
       " 'argon2-cffi @ file:///home/conda/feedstock_root/build_artifacts/argon2-cffi_1640817743617/work',\n",
       " 'argon2-cffi-bindings @ file:///Users/runner/miniforge3/conda-bld/argon2-cffi-bindings_1649500378483/work',\n",
       " 'asttokens @ file:///home/conda/feedstock_root/build_artifacts/asttokens_1618968359944/work',\n",
       " 'attrs @ file:///home/conda/feedstock_root/build_artifacts/attrs_1640799537051/work',\n",
       " 'Babel @ file:///home/conda/feedstock_root/build_artifacts/babel_1655419414885/work',\n",
       " 'backcall @ file:///home/conda/feedstock_root/build_artifacts/backcall_1592338393461/work',\n",
       " 'backports.functools-lru-cache @ file:///home/conda/feedstock_root/build_artifacts/backports.functools_lru_cache_1618230623929/work',\n",
       " 'beautifulsoup4 @ file:///home/conda/feedstock_root/build_artifacts/beautifulsoup4_1649463573192/work',\n",
       " 'bleach @ file:///home/conda/feedstock_root/build_artifacts/bleach_1656355450470/work',\n",
       " 'brotlipy @ file:///Users/runner/miniforge3/conda-bld/brotlipy_1648854303569/work',\n",
       " 'certifi==2022.6.15',\n",
       " 'cffi @ file:///Users/runner/miniforge3/conda-bld/cffi_1656783163977/work',\n",
       " 'charset-normalizer @ file:///home/conda/feedstock_root/build_artifacts/charset-normalizer_1655906222726/work',\n",
       " 'cryptography @ file:///Users/runner/miniforge3/conda-bld/cryptography_1657174084384/work',\n",
       " 'debugpy @ file:///Users/runner/miniforge3/conda-bld/debugpy_1649586398798/work',\n",
       " 'decorator @ file:///home/conda/feedstock_root/build_artifacts/decorator_1641555617451/work',\n",
       " 'defusedxml @ file:///home/conda/feedstock_root/build_artifacts/defusedxml_1615232257335/work',\n",
       " 'entrypoints @ file:///home/conda/feedstock_root/build_artifacts/entrypoints_1643888246732/work',\n",
       " 'executing @ file:///home/conda/feedstock_root/build_artifacts/executing_1646044401614/work',\n",
       " 'fastjsonschema @ file:///home/conda/feedstock_root/build_artifacts/python-fastjsonschema_1641751198313/work/dist',\n",
       " 'flit_core @ file:///home/conda/feedstock_root/build_artifacts/flit-core_1645629044586/work/source/flit_core',\n",
       " 'idna @ file:///home/conda/feedstock_root/build_artifacts/idna_1642433548627/work',\n",
       " 'importlib-metadata @ file:///Users/runner/miniforge3/conda-bld/importlib-metadata_1653252869256/work',\n",
       " 'importlib-resources @ file:///home/conda/feedstock_root/build_artifacts/importlib_resources_1655356668708/work',\n",
       " 'ipykernel @ file:///Users/runner/miniforge3/conda-bld/ipykernel_1657295113967/work',\n",
       " 'ipython @ file:///Users/runner/miniforge3/conda-bld/ipython_1653755019776/work',\n",
       " 'ipython-genutils==0.2.0',\n",
       " 'jedi @ file:///Users/runner/miniforge3/conda-bld/jedi_1649067433487/work',\n",
       " 'Jinja2 @ file:///home/conda/feedstock_root/build_artifacts/jinja2_1654302431367/work',\n",
       " 'json5 @ file:///home/conda/feedstock_root/build_artifacts/json5_1600692310011/work',\n",
       " 'jsonschema @ file:///home/conda/feedstock_root/build_artifacts/jsonschema-meta_1657629641118/work',\n",
       " 'jupyter-client @ file:///home/conda/feedstock_root/build_artifacts/jupyter_client_1654730843242/work',\n",
       " 'jupyter-core @ file:///Users/runner/miniforge3/conda-bld/jupyter_core_1652365483853/work',\n",
       " 'jupyter-server @ file:///home/conda/feedstock_root/build_artifacts/jupyter_server_1648633996660/work',\n",
       " 'jupyterlab @ file:///home/conda/feedstock_root/build_artifacts/jupyterlab_1654621376725/work',\n",
       " 'jupyterlab-pygments @ file:///home/conda/feedstock_root/build_artifacts/jupyterlab_pygments_1649936611996/work',\n",
       " 'jupyterlab-server @ file:///home/conda/feedstock_root/build_artifacts/jupyterlab_server_1657063151834/work',\n",
       " 'MarkupSafe @ file:///Users/runner/miniforge3/conda-bld/markupsafe_1648737588665/work',\n",
       " 'matplotlib-inline @ file:///home/conda/feedstock_root/build_artifacts/matplotlib-inline_1631080358261/work',\n",
       " 'mistune @ file:///Users/runner/miniforge3/conda-bld/mistune_1635844784701/work',\n",
       " 'nbclassic @ file:///home/conda/feedstock_root/build_artifacts/nbclassic_1647450696711/work',\n",
       " 'nbclient @ file:///home/conda/feedstock_root/build_artifacts/nbclient_1646999386773/work',\n",
       " 'nbconvert @ file:///Users/runner/miniforge3/conda-bld/nbconvert_1648465447893/work',\n",
       " 'nbformat @ file:///home/conda/feedstock_root/build_artifacts/nbformat_1651607001005/work',\n",
       " 'nest-asyncio @ file:///home/conda/feedstock_root/build_artifacts/nest-asyncio_1648959695634/work',\n",
       " 'notebook @ file:///home/conda/feedstock_root/build_artifacts/notebook_1654636967533/work',\n",
       " 'notebook-shim @ file:///home/conda/feedstock_root/build_artifacts/notebook-shim_1646330736330/work',\n",
       " 'packaging @ file:///home/conda/feedstock_root/build_artifacts/packaging_1637239678211/work',\n",
       " 'pandocfilters @ file:///home/conda/feedstock_root/build_artifacts/pandocfilters_1631603243851/work',\n",
       " 'parso @ file:///home/conda/feedstock_root/build_artifacts/parso_1638334955874/work',\n",
       " 'pexpect @ file:///home/conda/feedstock_root/build_artifacts/pexpect_1602535608087/work',\n",
       " 'pickleshare @ file:///home/conda/feedstock_root/build_artifacts/pickleshare_1602536217715/work',\n",
       " 'prometheus-client @ file:///home/conda/feedstock_root/build_artifacts/prometheus_client_1649447152425/work',\n",
       " 'prompt-toolkit @ file:///home/conda/feedstock_root/build_artifacts/prompt-toolkit_1656332401605/work',\n",
       " 'psutil @ file:///Users/runner/miniforge3/conda-bld/psutil_1653089446457/work',\n",
       " 'ptyprocess @ file:///home/conda/feedstock_root/build_artifacts/ptyprocess_1609419310487/work/dist/ptyprocess-0.7.0-py2.py3-none-any.whl',\n",
       " 'pure-eval @ file:///home/conda/feedstock_root/build_artifacts/pure_eval_1642875951954/work',\n",
       " 'pycparser @ file:///home/conda/feedstock_root/build_artifacts/pycparser_1636257122734/work',\n",
       " 'Pygments @ file:///home/conda/feedstock_root/build_artifacts/pygments_1650904496387/work',\n",
       " 'pyOpenSSL @ file:///home/conda/feedstock_root/build_artifacts/pyopenssl_1643496850550/work',\n",
       " 'pyparsing @ file:///home/conda/feedstock_root/build_artifacts/pyparsing_1652235407899/work',\n",
       " 'pyrsistent @ file:///Users/runner/miniforge3/conda-bld/pyrsistent_1649013428463/work',\n",
       " 'PySocks @ file:///Users/runner/miniforge3/conda-bld/pysocks_1648857351433/work',\n",
       " 'python-dateutil @ file:///home/conda/feedstock_root/build_artifacts/python-dateutil_1626286286081/work',\n",
       " 'pytz @ file:///home/conda/feedstock_root/build_artifacts/pytz_1647961439546/work',\n",
       " 'pyzmq @ file:///Users/runner/miniforge3/conda-bld/pyzmq_1656183616117/work',\n",
       " 'requests @ file:///home/conda/feedstock_root/build_artifacts/requests_1656534056640/work',\n",
       " 'Send2Trash @ file:///home/conda/feedstock_root/build_artifacts/send2trash_1628511208346/work',\n",
       " 'six @ file:///home/conda/feedstock_root/build_artifacts/six_1620240208055/work',\n",
       " 'sniffio @ file:///Users/runner/miniforge3/conda-bld/sniffio_1648819417040/work',\n",
       " 'soupsieve @ file:///home/conda/feedstock_root/build_artifacts/soupsieve_1638550740809/work',\n",
       " 'stack-data @ file:///home/conda/feedstock_root/build_artifacts/stack_data_1655315839047/work',\n",
       " 'terminado @ file:///Users/runner/miniforge3/conda-bld/terminado_1652790932906/work',\n",
       " 'testpath @ file:///home/conda/feedstock_root/build_artifacts/testpath_1645693042223/work',\n",
       " 'tornado @ file:///Users/runner/miniforge3/conda-bld/tornado_1656938163103/work',\n",
       " 'traitlets @ file:///home/conda/feedstock_root/build_artifacts/traitlets_1655411388954/work',\n",
       " 'urllib3 @ file:///home/conda/feedstock_root/build_artifacts/urllib3_1657224465922/work',\n",
       " 'wcwidth @ file:///home/conda/feedstock_root/build_artifacts/wcwidth_1600965781394/work',\n",
       " 'webencodings==0.5.1',\n",
       " 'websocket-client @ file:///home/conda/feedstock_root/build_artifacts/websocket-client_1655796432389/work',\n",
       " 'zipp @ file:///home/conda/feedstock_root/build_artifacts/zipp_1649012893348/work']"
      ]
     },
     "execution_count": 7,
     "metadata": {},
     "output_type": "execute_result"
    }
   ],
   "source": [
    "RogerioDetalhesAmbiente.show_pip_freeze()"
   ]
  },
  {
   "cell_type": "markdown",
   "id": "079d9f34-aeba-4ba6-b739-b7a75a9f39eb",
   "metadata": {},
   "source": [
    "### 2.6. Mostra as extensões jupyter lab"
   ]
  },
  {
   "cell_type": "code",
   "execution_count": 8,
   "id": "9229dc72-73ca-40b2-ad4f-017a470b2d9c",
   "metadata": {
    "tags": []
   },
   "outputs": [
    {
     "data": {
      "text/plain": [
       "['JupyterLab v3.4.3',\n",
       " '/opt/homebrew/Caskroom/mambaforge/base/envs/python-detalhes-ambiente/share/jupyter/labextensions',\n",
       " '        jupyterlab_pygments v0.2.2 \\x1b[32menabled\\x1b[0m \\x1b[32mOK\\x1b[0m (python, jupyterlab_pygments)',\n",
       " '']"
      ]
     },
     "execution_count": 8,
     "metadata": {},
     "output_type": "execute_result"
    }
   ],
   "source": [
    "RogerioDetalhesAmbiente.show_jupyter_lab_ext_list()"
   ]
  },
  {
   "cell_type": "markdown",
   "id": "cc7d6164-f59c-4768-bb8f-df5eb228a40a",
   "metadata": {},
   "source": [
    "### 2.7. Mostra as extensões jupyter server"
   ]
  },
  {
   "cell_type": "code",
   "execution_count": 9,
   "id": "f60e3777-f1d5-4e70-9013-e73e56ec243c",
   "metadata": {
    "tags": []
   },
   "outputs": [
    {
     "data": {
      "text/plain": [
       "['    - Validating...',\n",
       " '      jupyterlab 3.4.3 \\x1b[32mOK\\x1b[0m',\n",
       " 'config dir: /opt/homebrew/Caskroom/mambaforge/base/envs/python-detalhes-ambiente/etc/jupyter',\n",
       " '    jupyterlab \\x1b[32m enabled \\x1b[0m']"
      ]
     },
     "execution_count": 9,
     "metadata": {},
     "output_type": "execute_result"
    }
   ],
   "source": [
    "RogerioDetalhesAmbiente.show_jupyter_server_ext_list()"
   ]
  },
  {
   "cell_type": "markdown",
   "id": "0f9cc8e5-3aa2-45ee-9e4b-c9596ee9589f",
   "metadata": {},
   "source": [
    "### 2.8. Caminho do nosso script no sistema de arquivos"
   ]
  },
  {
   "cell_type": "code",
   "execution_count": 10,
   "id": "4cd5b26c-b6a8-45bc-939e-f8254b2c384d",
   "metadata": {
    "tags": []
   },
   "outputs": [
    {
     "data": {
      "text/plain": [
       "'/Users/rogeriopradoj/contribs/python-detalhes-ambiente/001_notebooks'"
      ]
     },
     "execution_count": 10,
     "metadata": {},
     "output_type": "execute_result"
    }
   ],
   "source": [
    "RogerioDetalhesAmbiente.show_current_directory_path()"
   ]
  },
  {
   "cell_type": "markdown",
   "id": "4528a7f8-adf3-426c-a856-ba84d00e9462",
   "metadata": {},
   "source": [
    "### 2.9. Caminho do diretório pai"
   ]
  },
  {
   "cell_type": "code",
   "execution_count": 11,
   "id": "8854e3ae-96e2-4b26-92c1-64187c8fc8bb",
   "metadata": {
    "tags": []
   },
   "outputs": [
    {
     "data": {
      "text/plain": [
       "'/Users/rogeriopradoj/contribs/python-detalhes-ambiente'"
      ]
     },
     "execution_count": 11,
     "metadata": {},
     "output_type": "execute_result"
    }
   ],
   "source": [
    "RogerioDetalhesAmbiente.show_parent_directory_path()"
   ]
  },
  {
   "cell_type": "markdown",
   "id": "450c609f-b87b-4668-9309-940265cd45b2",
   "metadata": {},
   "source": [
    "### 2.10. Mostra as informações do ambiente anaconda"
   ]
  },
  {
   "cell_type": "code",
   "execution_count": 12,
   "id": "56c91c96-ca36-4362-9abc-ad9f823de05f",
   "metadata": {
    "tags": []
   },
   "outputs": [
    {
     "data": {
      "text/plain": [
       "['',\n",
       " '                  __    __    __    __',\n",
       " '                 /  \\\\  /  \\\\  /  \\\\  /  \\\\',\n",
       " '                /    \\\\/    \\\\/    \\\\/    \\\\',\n",
       " '███████████████/  /██/  /██/  /██/  /████████████████████████',\n",
       " '              /  / \\\\   / \\\\   / \\\\   / \\\\  \\\\____',\n",
       " '             /  /   \\\\_/   \\\\_/   \\\\_/   \\\\    o \\\\__,',\n",
       " '            / _/                       \\\\_____/  `',\n",
       " '            |/',\n",
       " '        ███╗   ███╗ █████╗ ███╗   ███╗██████╗  █████╗',\n",
       " '        ████╗ ████║██╔══██╗████╗ ████║██╔══██╗██╔══██╗',\n",
       " '        ██╔████╔██║███████║██╔████╔██║██████╔╝███████║',\n",
       " '        ██║╚██╔╝██║██╔══██║██║╚██╔╝██║██╔══██╗██╔══██║',\n",
       " '        ██║ ╚═╝ ██║██║  ██║██║ ╚═╝ ██║██████╔╝██║  ██║',\n",
       " '        ╚═╝     ╚═╝╚═╝  ╚═╝╚═╝     ╚═╝╚═════╝ ╚═╝  ╚═╝',\n",
       " '',\n",
       " '        mamba (0.22.1) supported by @QuantStack',\n",
       " '',\n",
       " '        GitHub:  https://github.com/mamba-org/mamba',\n",
       " '        Twitter: https://twitter.com/QuantStack',\n",
       " '',\n",
       " '█████████████████████████████████████████████████████████████',\n",
       " '',\n",
       " '',\n",
       " '     active environment : python-detalhes-ambiente',\n",
       " '    active env location : /opt/homebrew/Caskroom/mambaforge/base/envs/python-detalhes-ambiente',\n",
       " '            shell level : 2',\n",
       " '       user config file : /Users/rogeriopradoj/.condarc',\n",
       " ' populated config files : /opt/homebrew/Caskroom/mambaforge/base/.condarc',\n",
       " '          conda version : 4.12.0',\n",
       " '    conda-build version : not installed',\n",
       " '         python version : 3.9.13.final.0',\n",
       " '       virtual packages : __osx=12.4=0',\n",
       " '                          __unix=0=0',\n",
       " '                          __archspec=1=arm64',\n",
       " '       base environment : /opt/homebrew/Caskroom/mambaforge/base  (writable)',\n",
       " '      conda av data dir : /opt/homebrew/Caskroom/mambaforge/base/etc/conda',\n",
       " '  conda av metadata url : None',\n",
       " '           channel URLs : https://conda.anaconda.org/conda-forge/osx-arm64',\n",
       " '                          https://conda.anaconda.org/conda-forge/noarch',\n",
       " '          package cache : /opt/homebrew/Caskroom/mambaforge/base/pkgs',\n",
       " '                          /Users/rogeriopradoj/.conda/pkgs',\n",
       " '       envs directories : /opt/homebrew/Caskroom/mambaforge/base/envs',\n",
       " '                          /Users/rogeriopradoj/.conda/envs',\n",
       " '               platform : osx-arm64',\n",
       " '             user-agent : conda/4.12.0 requests/2.27.1 CPython/3.9.13 Darwin/21.5.0 OSX/12.4',\n",
       " '                UID:GID : 502:20',\n",
       " '             netrc file : None',\n",
       " '           offline mode : False',\n",
       " '']"
      ]
     },
     "execution_count": 12,
     "metadata": {},
     "output_type": "execute_result"
    }
   ],
   "source": [
    "RogerioDetalhesAmbiente.show_anaconda_info()"
   ]
  },
  {
   "cell_type": "markdown",
   "id": "36f803b3-c9fe-4f61-a88f-d5a04d48c08e",
   "metadata": {},
   "source": [
    "### 2.11. Mostra as configurações do ambiente anaconda"
   ]
  },
  {
   "cell_type": "code",
   "execution_count": 13,
   "id": "585c2373-e0e1-49ee-9a8e-a7380265e212",
   "metadata": {
    "tags": []
   },
   "outputs": [
    {
     "data": {
      "text/plain": [
       "['add_anaconda_token: True',\n",
       " 'add_pip_as_python_dependency: True',\n",
       " 'aggressive_update_packages:',\n",
       " '  - ca-certificates',\n",
       " '  - certifi',\n",
       " '  - openssl',\n",
       " 'allow_conda_downgrades: False',\n",
       " 'allow_cycles: True',\n",
       " 'allow_non_channel_urls: False',\n",
       " 'allow_softlinks: False',\n",
       " 'always_copy: False',\n",
       " 'always_softlink: False',\n",
       " 'always_yes: None',\n",
       " 'anaconda_upload: None',\n",
       " 'auto_activate_base: True',\n",
       " 'auto_stack: 0',\n",
       " 'auto_update_conda: True',\n",
       " 'bld_path: ',\n",
       " 'changeps1: True',\n",
       " 'channel_alias: https://conda.anaconda.org',\n",
       " 'channel_priority: flexible',\n",
       " 'channels:',\n",
       " '  - conda-forge',\n",
       " 'client_ssl_cert: None',\n",
       " 'client_ssl_cert_key: None',\n",
       " 'clobber: False',\n",
       " 'conda_build: {}',\n",
       " 'create_default_packages: []',\n",
       " 'croot: /opt/homebrew/Caskroom/mambaforge/base/conda-bld',\n",
       " 'custom_channels:',\n",
       " '  pkgs/main: https://repo.anaconda.com',\n",
       " '  pkgs/r: https://repo.anaconda.com',\n",
       " '  pkgs/pro: https://repo.anaconda.com',\n",
       " 'custom_multichannels:',\n",
       " '  defaults: ',\n",
       " '    - https://repo.anaconda.com/pkgs/main',\n",
       " '    - https://repo.anaconda.com/pkgs/r',\n",
       " '  local: ',\n",
       " 'debug: False',\n",
       " 'default_channels:',\n",
       " '  - https://repo.anaconda.com/pkgs/main',\n",
       " '  - https://repo.anaconda.com/pkgs/r',\n",
       " 'default_python: 3.9',\n",
       " 'default_threads: None',\n",
       " 'deps_modifier: not_set',\n",
       " 'dev: False',\n",
       " 'disallowed_packages: []',\n",
       " 'download_only: False',\n",
       " 'dry_run: False',\n",
       " 'enable_private_envs: False',\n",
       " 'env_prompt: ({default_env}) ',\n",
       " 'envs_dirs:',\n",
       " '  - /opt/homebrew/Caskroom/mambaforge/base/envs',\n",
       " '  - /Users/rogeriopradoj/.conda/envs',\n",
       " 'error_upload_url: https://conda.io/conda-post/unexpected-error',\n",
       " 'execute_threads: 1',\n",
       " 'experimental_solver: classic',\n",
       " 'extra_safety_checks: False',\n",
       " 'force: False',\n",
       " 'force_32bit: False',\n",
       " 'force_reinstall: False',\n",
       " 'force_remove: False',\n",
       " 'ignore_pinned: False',\n",
       " 'json: False',\n",
       " 'local_repodata_ttl: 1',\n",
       " 'migrated_channel_aliases: []',\n",
       " 'migrated_custom_channels: {}',\n",
       " 'non_admin_enabled: True',\n",
       " 'notify_outdated_conda: True',\n",
       " 'offline: False',\n",
       " 'override_channels_enabled: True',\n",
       " 'path_conflict: clobber',\n",
       " 'pinned_packages: []',\n",
       " 'pip_interop_enabled: False',\n",
       " 'pkgs_dirs:',\n",
       " '  - /opt/homebrew/Caskroom/mambaforge/base/pkgs',\n",
       " '  - /Users/rogeriopradoj/.conda/pkgs',\n",
       " 'proxy_servers: {}',\n",
       " 'quiet: False',\n",
       " 'remote_backoff_factor: 1',\n",
       " 'remote_connect_timeout_secs: 9.15',\n",
       " 'remote_max_retries: 3',\n",
       " 'remote_read_timeout_secs: 60.0',\n",
       " 'repodata_fns:',\n",
       " '  - current_repodata.json',\n",
       " '  - repodata.json',\n",
       " 'repodata_threads: None',\n",
       " 'report_errors: None',\n",
       " 'restore_free_channel: False',\n",
       " 'rollback_enabled: True',\n",
       " 'root_prefix: /opt/homebrew/Caskroom/mambaforge/base',\n",
       " 'safety_checks: warn',\n",
       " 'sat_solver: pycosat',\n",
       " 'separate_format_cache: False',\n",
       " 'shortcuts: True',\n",
       " 'show_channel_urls: None',\n",
       " 'signing_metadata_url_base: None',\n",
       " 'solver_ignore_timestamps: False',\n",
       " 'ssl_verify: True',\n",
       " 'subdir: osx-arm64',\n",
       " 'subdirs:',\n",
       " '  - osx-arm64',\n",
       " '  - noarch',\n",
       " 'target_prefix_override: ',\n",
       " 'track_features: []',\n",
       " 'unsatisfiable_hints: True',\n",
       " 'unsatisfiable_hints_check_depth: 2',\n",
       " 'update_modifier: update_specs',\n",
       " 'use_index_cache: False',\n",
       " 'use_local: False',\n",
       " 'use_only_tar_bz2: False',\n",
       " 'verbosity: 0',\n",
       " 'verify_threads: 1',\n",
       " 'whitelist_channels: []']"
      ]
     },
     "execution_count": 13,
     "metadata": {},
     "output_type": "execute_result"
    }
   ],
   "source": [
    "RogerioDetalhesAmbiente.show_anaconda_config_show()"
   ]
  },
  {
   "cell_type": "code",
   "execution_count": null,
   "id": "805fd91b-e824-4612-8aa0-6754017b1074",
   "metadata": {},
   "outputs": [],
   "source": []
  }
 ],
 "metadata": {
  "interpreter": {
   "hash": "ba51381344883a318b3dad2b482e48b2f170b93d04cbe1ffc5c1e803362755c9"
  },
  "kernelspec": {
   "display_name": "Python 3 (ipykernel)",
   "language": "python",
   "name": "python3"
  },
  "language_info": {
   "codemirror_mode": {
    "name": "ipython",
    "version": 3
   },
   "file_extension": ".py",
   "mimetype": "text/x-python",
   "name": "python",
   "nbconvert_exporter": "python",
   "pygments_lexer": "ipython3",
   "version": "3.10.5"
  }
 },
 "nbformat": 4,
 "nbformat_minor": 5
}
